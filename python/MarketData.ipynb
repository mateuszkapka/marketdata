{
 "cells": [
  {
   "cell_type": "code",
   "execution_count": 46,
   "id": "9df047bc",
   "metadata": {
    "ExecuteTime": {
     "end_time": "2024-02-24T18:24:33.397958756Z",
     "start_time": "2024-02-24T18:24:33.353179280Z"
    }
   },
   "outputs": [],
   "source": [
    "import os;\n",
    "import sys;\n",
    "sys.path.append(\"venv\")"
   ]
  },
  {
   "cell_type": "code",
   "execution_count": null,
   "id": "37d66d74990e5f3a",
   "metadata": {
    "collapsed": false
   },
   "outputs": [],
   "source": []
  },
  {
   "cell_type": "code",
   "execution_count": 6,
   "id": "2e99082d",
   "metadata": {
    "ExecuteTime": {
     "end_time": "2024-02-24T20:05:56.968001785Z",
     "start_time": "2024-02-24T20:05:53.721537129Z"
    }
   },
   "outputs": [
    {
     "data": {
      "text/plain": "timestamp        32000001\nsymbol           32000001\nbid_price        16000001\nbid_size         16000001\nask_price        16000001\nask_size         16000001\nmarket_period    16000001\ntrade_price      16000000\ntrade_volume     16000000\ntype             32000001\ndtype: int64"
     },
     "execution_count": 6,
     "metadata": {},
     "output_type": "execute_result"
    }
   ],
   "source": [
    "import pandas as pd\n",
    "df = pd.read_parquet('../normalised_data/NASDAQ.parquet', engine='pyarrow')\n",
    "df.count()"
   ]
  },
  {
   "cell_type": "code",
   "outputs": [],
   "source": [],
   "metadata": {
    "collapsed": false
   },
   "id": "ed3ce69f05f0b5a4"
  },
  {
   "cell_type": "code",
   "execution_count": 24,
   "id": "c647d11a7fb58412",
   "metadata": {
    "collapsed": false,
    "ExecuteTime": {
     "end_time": "2024-02-25T14:14:55.739180415Z",
     "start_time": "2024-02-25T14:14:42.380038919Z"
    }
   },
   "outputs": [],
   "source": [
    "nadaq_raw_data = pd.read_parquet('../normalised_data/NASDAQ.parquet', engine='pyarrow')\n",
    "wse_raw_data = pd.read_parquet('../normalised_data/WSE.parquet', engine='pyarrow') "
   ]
  },
  {
   "cell_type": "code",
   "outputs": [
    {
     "data": {
      "text/plain": "                        timestamp  trade_price\n1358      2024-01-22 09:00:00.128          NaN\n1362      2024-01-22 09:00:00.128          NaN\n1536      2024-01-22 09:00:00.130          NaN\n1690      2024-01-22 09:00:00.133          NaN\n2473      2024-01-22 09:00:00.200          NaN\n...                           ...          ...\n259996165 2024-01-22 21:28:39.400          NaN\n259996609 2024-01-22 21:28:46.874          NaN\n259996610 2024-01-22 21:28:46.874          NaN\n259996611 2024-01-22 21:28:46.874        193.7\n259998828 2024-01-22 21:29:13.321          NaN\n\n[1774333 rows x 2 columns]",
      "text/html": "<div>\n<style scoped>\n    .dataframe tbody tr th:only-of-type {\n        vertical-align: middle;\n    }\n\n    .dataframe tbody tr th {\n        vertical-align: top;\n    }\n\n    .dataframe thead th {\n        text-align: right;\n    }\n</style>\n<table border=\"1\" class=\"dataframe\">\n  <thead>\n    <tr style=\"text-align: right;\">\n      <th></th>\n      <th>timestamp</th>\n      <th>trade_price</th>\n    </tr>\n  </thead>\n  <tbody>\n    <tr>\n      <th>1358</th>\n      <td>2024-01-22 09:00:00.128</td>\n      <td>NaN</td>\n    </tr>\n    <tr>\n      <th>1362</th>\n      <td>2024-01-22 09:00:00.128</td>\n      <td>NaN</td>\n    </tr>\n    <tr>\n      <th>1536</th>\n      <td>2024-01-22 09:00:00.130</td>\n      <td>NaN</td>\n    </tr>\n    <tr>\n      <th>1690</th>\n      <td>2024-01-22 09:00:00.133</td>\n      <td>NaN</td>\n    </tr>\n    <tr>\n      <th>2473</th>\n      <td>2024-01-22 09:00:00.200</td>\n      <td>NaN</td>\n    </tr>\n    <tr>\n      <th>...</th>\n      <td>...</td>\n      <td>...</td>\n    </tr>\n    <tr>\n      <th>259996165</th>\n      <td>2024-01-22 21:28:39.400</td>\n      <td>NaN</td>\n    </tr>\n    <tr>\n      <th>259996609</th>\n      <td>2024-01-22 21:28:46.874</td>\n      <td>NaN</td>\n    </tr>\n    <tr>\n      <th>259996610</th>\n      <td>2024-01-22 21:28:46.874</td>\n      <td>NaN</td>\n    </tr>\n    <tr>\n      <th>259996611</th>\n      <td>2024-01-22 21:28:46.874</td>\n      <td>193.7</td>\n    </tr>\n    <tr>\n      <th>259998828</th>\n      <td>2024-01-22 21:29:13.321</td>\n      <td>NaN</td>\n    </tr>\n  </tbody>\n</table>\n<p>1774333 rows × 2 columns</p>\n</div>"
     },
     "execution_count": 25,
     "metadata": {},
     "output_type": "execute_result"
    }
   ],
   "source": [
    "nadaq_raw_data.query(\"symbol == 'AAPL'\")[['timestamp', 'trade_price']]\n",
    "# wse_raw_data.query(\"symbol == 'PKO'\")"
   ],
   "metadata": {
    "collapsed": false,
    "ExecuteTime": {
     "end_time": "2024-02-25T14:15:01.178861443Z",
     "start_time": "2024-02-25T14:14:55.741850838Z"
    }
   },
   "id": "8f88df0e026606ae",
   "execution_count": 25
  },
  {
   "cell_type": "code",
   "execution_count": 4,
   "id": "50b8ea2e",
   "metadata": {
    "ExecuteTime": {
     "end_time": "2024-02-25T14:32:08.292255644Z",
     "start_time": "2024-02-25T14:16:43.203529721Z"
    }
   },
   "outputs": [],
   "source": [
    "from regionConfig.WSE import WSE\n",
    "from regionConfig.NASDAQ import NASDAQ\n",
    "# Spread sizes\n",
    "\n",
    "import aggregator\n",
    "import filters\n",
    "\n",
    "\n",
    "class SpreadByTickSizeAggregate(aggregator.Aggregate):\n",
    "    def __init__(self, region, symbol):\n",
    "        self.last_bid = 0.0\n",
    "        self.last_ask = 0.0\n",
    "        self.region = region\n",
    "        self.tick_series = []\n",
    "        self.spread = 0\n",
    "\n",
    "    def on_quote(self, quote):\n",
    "        self.spread = quote.ask_price - quote.bid_price\n",
    "\n",
    "    def on_trade(self, trade):\n",
    "        tick_size = self.region.get_tick_size(trade.trade_price, trade.symbol)\n",
    "        if tick_size != 0 and self.spread > 0:\n",
    "            self.tick_series.append(self.spread / tick_size)\n",
    "\n",
    "    def compute_slice(self, slice):\n",
    "        if len(self.tick_series) == 0:\n",
    "            return 0\n",
    "\n",
    "        value = sum(self.tick_series) / len(self.tick_series)\n",
    "        return value\n",
    "\n",
    "\n",
    "\n",
    "# agg = aggregator.Aggregator( WSE(),\"20240122\")\n",
    "# agg.registerAggregate(SpreadByTickSizeAggregate)\n",
    "# aggs_wse = agg.run()\n",
    "\n",
    "agg = aggregator.Aggregator(NASDAQ(),\"20240122\")\n",
    "agg.registerAggregate(SpreadByTickSizeAggregate)\n",
    "aggs_nasdaq = agg.run()"
   ]
  },
  {
   "cell_type": "code",
   "outputs": [
    {
     "data": {
      "text/plain": "       symbol     slice         aggregate       value\n82       WMPN  15:50:00  SpreadByTickSize    5.949153\n248       SBR  15:50:00  SpreadByTickSize  151.500000\n331      ATHE  15:50:00  SpreadByTickSize    6.833333\n414      HLTH  15:50:00  SpreadByTickSize    0.453333\n497       ITW  15:50:00  SpreadByTickSize   23.543814\n...       ...       ...               ...         ...\n778207   SDIV  15:50:00  SpreadByTickSize   11.384615\n778290   SNOA  15:50:00  SpreadByTickSize    1.020000\n778373     BN  15:50:00  SpreadByTickSize    2.896723\n778456  NTRSO  15:50:00  SpreadByTickSize   15.943396\n778539  HPP-C  15:50:00  SpreadByTickSize   78.250000\n\n[8263 rows x 4 columns]",
      "text/html": "<div>\n<style scoped>\n    .dataframe tbody tr th:only-of-type {\n        vertical-align: middle;\n    }\n\n    .dataframe tbody tr th {\n        vertical-align: top;\n    }\n\n    .dataframe thead th {\n        text-align: right;\n    }\n</style>\n<table border=\"1\" class=\"dataframe\">\n  <thead>\n    <tr style=\"text-align: right;\">\n      <th></th>\n      <th>symbol</th>\n      <th>slice</th>\n      <th>aggregate</th>\n      <th>value</th>\n    </tr>\n  </thead>\n  <tbody>\n    <tr>\n      <th>82</th>\n      <td>WMPN</td>\n      <td>15:50:00</td>\n      <td>SpreadByTickSize</td>\n      <td>5.949153</td>\n    </tr>\n    <tr>\n      <th>248</th>\n      <td>SBR</td>\n      <td>15:50:00</td>\n      <td>SpreadByTickSize</td>\n      <td>151.500000</td>\n    </tr>\n    <tr>\n      <th>331</th>\n      <td>ATHE</td>\n      <td>15:50:00</td>\n      <td>SpreadByTickSize</td>\n      <td>6.833333</td>\n    </tr>\n    <tr>\n      <th>414</th>\n      <td>HLTH</td>\n      <td>15:50:00</td>\n      <td>SpreadByTickSize</td>\n      <td>0.453333</td>\n    </tr>\n    <tr>\n      <th>497</th>\n      <td>ITW</td>\n      <td>15:50:00</td>\n      <td>SpreadByTickSize</td>\n      <td>23.543814</td>\n    </tr>\n    <tr>\n      <th>...</th>\n      <td>...</td>\n      <td>...</td>\n      <td>...</td>\n      <td>...</td>\n    </tr>\n    <tr>\n      <th>778207</th>\n      <td>SDIV</td>\n      <td>15:50:00</td>\n      <td>SpreadByTickSize</td>\n      <td>11.384615</td>\n    </tr>\n    <tr>\n      <th>778290</th>\n      <td>SNOA</td>\n      <td>15:50:00</td>\n      <td>SpreadByTickSize</td>\n      <td>1.020000</td>\n    </tr>\n    <tr>\n      <th>778373</th>\n      <td>BN</td>\n      <td>15:50:00</td>\n      <td>SpreadByTickSize</td>\n      <td>2.896723</td>\n    </tr>\n    <tr>\n      <th>778456</th>\n      <td>NTRSO</td>\n      <td>15:50:00</td>\n      <td>SpreadByTickSize</td>\n      <td>15.943396</td>\n    </tr>\n    <tr>\n      <th>778539</th>\n      <td>HPP-C</td>\n      <td>15:50:00</td>\n      <td>SpreadByTickSize</td>\n      <td>78.250000</td>\n    </tr>\n  </tbody>\n</table>\n<p>8263 rows × 4 columns</p>\n</div>"
     },
     "execution_count": 10,
     "metadata": {},
     "output_type": "execute_result"
    }
   ],
   "source": [
    "import datetime\n",
    "eod_slice = datetime.time(15,50,00)\n",
    "aggs_nasdaq.query(\"slice == @eod_slice and value != 0.0\")\n"
   ],
   "metadata": {
    "collapsed": false,
    "ExecuteTime": {
     "end_time": "2024-02-25T14:49:52.012849328Z",
     "start_time": "2024-02-25T14:49:51.973116673Z"
    }
   },
   "id": "a2144c681399b944",
   "execution_count": 10
  },
  {
   "cell_type": "code",
   "outputs": [
    {
     "data": {
      "text/plain": "<Figure size 640x480 with 1 Axes>",
      "image/png": "[encoded data removed]"
     },
     "metadata": {},
     "output_type": "display_data"
    }
   ],
   "source": [
    "aggs = aggs_nasdaq\n",
    "ax = aggs.hist(column='value', bins=100, log=True)"
   ],
   "metadata": {
    "collapsed": false,
    "ExecuteTime": {
     "end_time": "2024-02-25T14:32:41.871882828Z",
     "start_time": "2024-02-25T14:32:41.563814697Z"
    }
   },
   "id": "6b0d0b3e0fb542ee",
   "execution_count": 7
  },
  {
   "cell_type": "code",
   "outputs": [
    {
     "data": {
      "text/plain": "       symbol     slice   aggregate  value\n0         YAN  09:00:00  TradeCount      0\n1         YAN  09:05:00  TradeCount      0\n2         YAN  09:10:00  TradeCount      0\n3         YAN  09:15:00  TradeCount      0\n4         YAN  09:20:00  TradeCount      0\n...       ...       ...         ...    ...\n130637    ZAP  15:30:00  QuoteCount      0\n130638    ZAP  15:35:00  QuoteCount      1\n130639    ZAP  15:40:00  QuoteCount      2\n130640    ZAP  15:45:00  QuoteCount      1\n130641    ZAP  15:50:00  QuoteCount      0\n\n[130642 rows x 4 columns]",
      "text/html": "<div>\n<style scoped>\n    .dataframe tbody tr th:only-of-type {\n        vertical-align: middle;\n    }\n\n    .dataframe tbody tr th {\n        vertical-align: top;\n    }\n\n    .dataframe thead th {\n        text-align: right;\n    }\n</style>\n<table border=\"1\" class=\"dataframe\">\n  <thead>\n    <tr style=\"text-align: right;\">\n      <th></th>\n      <th>symbol</th>\n      <th>slice</th>\n      <th>aggregate</th>\n      <th>value</th>\n    </tr>\n  </thead>\n  <tbody>\n    <tr>\n      <th>0</th>\n      <td>YAN</td>\n      <td>09:00:00</td>\n      <td>TradeCount</td>\n      <td>0</td>\n    </tr>\n    <tr>\n      <th>1</th>\n      <td>YAN</td>\n      <td>09:05:00</td>\n      <td>TradeCount</td>\n      <td>0</td>\n    </tr>\n    <tr>\n      <th>2</th>\n      <td>YAN</td>\n      <td>09:10:00</td>\n      <td>TradeCount</td>\n      <td>0</td>\n    </tr>\n    <tr>\n      <th>3</th>\n      <td>YAN</td>\n      <td>09:15:00</td>\n      <td>TradeCount</td>\n      <td>0</td>\n    </tr>\n    <tr>\n      <th>4</th>\n      <td>YAN</td>\n      <td>09:20:00</td>\n      <td>TradeCount</td>\n      <td>0</td>\n    </tr>\n    <tr>\n      <th>...</th>\n      <td>...</td>\n      <td>...</td>\n      <td>...</td>\n      <td>...</td>\n    </tr>\n    <tr>\n      <th>130637</th>\n      <td>ZAP</td>\n      <td>15:30:00</td>\n      <td>QuoteCount</td>\n      <td>0</td>\n    </tr>\n    <tr>\n      <th>130638</th>\n      <td>ZAP</td>\n      <td>15:35:00</td>\n      <td>QuoteCount</td>\n      <td>1</td>\n    </tr>\n    <tr>\n      <th>130639</th>\n      <td>ZAP</td>\n      <td>15:40:00</td>\n      <td>QuoteCount</td>\n      <td>2</td>\n    </tr>\n    <tr>\n      <th>130640</th>\n      <td>ZAP</td>\n      <td>15:45:00</td>\n      <td>QuoteCount</td>\n      <td>1</td>\n    </tr>\n    <tr>\n      <th>130641</th>\n      <td>ZAP</td>\n      <td>15:50:00</td>\n      <td>QuoteCount</td>\n      <td>0</td>\n    </tr>\n  </tbody>\n</table>\n<p>130642 rows × 4 columns</p>\n</div>"
     },
     "execution_count": 2,
     "metadata": {},
     "output_type": "execute_result"
    }
   ],
   "source": [
    "from regionConfig.WSE import WSE\n",
    "# Spread sizes\n",
    "\n",
    "import aggregator\n",
    "import filters\n",
    "\n",
    "class TradeCountAggregate(aggregator.Aggregate):\n",
    "    def __init__(self, region, symbol):\n",
    "        self.trade_count = 0\n",
    "\n",
    "    def on_quote(self, quote):\n",
    "        pass\n",
    "\n",
    "    def on_trade(self, trade):\n",
    "        self.trade_count+=1\n",
    "\n",
    "    def compute_slice(self, slice):\n",
    "        val = self.trade_count\n",
    "        self.trade_count = 0 \n",
    "        return val\n",
    "    \n",
    "class QuoteCountAggregate(aggregator.Aggregate):\n",
    "    def __init__(self, region, symbol):\n",
    "        self.quote_count = 0\n",
    "\n",
    "    def on_quote(self, quote):\n",
    "        self.quote_count+=1\n",
    "\n",
    "    def on_trade(self, trade):\n",
    "        pass\n",
    "\n",
    "    def compute_slice(self, slice):\n",
    "        val = self.quote_count\n",
    "        self.quote_count = 0 \n",
    "        return val\n",
    "\n",
    "agg = aggregator.Aggregator(WSE(),\"20240122\" )\n",
    "agg.registerAggregate(TradeCountAggregate)\n",
    "agg.registerAggregate(QuoteCountAggregate)\n",
    "trade_count_aggs = agg.run()\n",
    "trade_count_aggs"
   ],
   "metadata": {
    "collapsed": false,
    "ExecuteTime": {
     "end_time": "2024-02-24T18:29:31.111377219Z",
     "start_time": "2024-02-24T18:29:29.481617624Z"
    }
   },
   "id": "5f40f7c6fc2fbf33",
   "execution_count": 2
  },
  {
   "cell_type": "code",
   "outputs": [
    {
     "data": {
      "text/plain": "        value_x  value_y\nsymbol                  \n7FT           0        2\nAAS           0        1\nABK           0        2\nADS           0     2198\nAFC           0        1\n...         ...      ...\nXBS           0        3\nYAN           0       10\nYBS           0        2\nYOL           0        5\nZAL           0     3658\n\n[165 rows x 2 columns]",
      "text/html": "<div>\n<style scoped>\n    .dataframe tbody tr th:only-of-type {\n        vertical-align: middle;\n    }\n\n    .dataframe tbody tr th {\n        vertical-align: top;\n    }\n\n    .dataframe thead th {\n        text-align: right;\n    }\n</style>\n<table border=\"1\" class=\"dataframe\">\n  <thead>\n    <tr style=\"text-align: right;\">\n      <th></th>\n      <th>value_x</th>\n      <th>value_y</th>\n    </tr>\n    <tr>\n      <th>symbol</th>\n      <th></th>\n      <th></th>\n    </tr>\n  </thead>\n  <tbody>\n    <tr>\n      <th>7FT</th>\n      <td>0</td>\n      <td>2</td>\n    </tr>\n    <tr>\n      <th>AAS</th>\n      <td>0</td>\n      <td>1</td>\n    </tr>\n    <tr>\n      <th>ABK</th>\n      <td>0</td>\n      <td>2</td>\n    </tr>\n    <tr>\n      <th>ADS</th>\n      <td>0</td>\n      <td>2198</td>\n    </tr>\n    <tr>\n      <th>AFC</th>\n      <td>0</td>\n      <td>1</td>\n    </tr>\n    <tr>\n      <th>...</th>\n      <td>...</td>\n      <td>...</td>\n    </tr>\n    <tr>\n      <th>XBS</th>\n      <td>0</td>\n      <td>3</td>\n    </tr>\n    <tr>\n      <th>YAN</th>\n      <td>0</td>\n      <td>10</td>\n    </tr>\n    <tr>\n      <th>YBS</th>\n      <td>0</td>\n      <td>2</td>\n    </tr>\n    <tr>\n      <th>YOL</th>\n      <td>0</td>\n      <td>5</td>\n    </tr>\n    <tr>\n      <th>ZAL</th>\n      <td>0</td>\n      <td>3658</td>\n    </tr>\n  </tbody>\n</table>\n<p>165 rows × 2 columns</p>\n</div>"
     },
     "execution_count": 3,
     "metadata": {},
     "output_type": "execute_result"
    }
   ],
   "source": [
    "import pandas as pd\n",
    "import datetime\n",
    "first_slice_time = datetime.time(9,0,0)\n",
    "trade_counts = trade_count_aggs.query('aggregate == \"TradeCount\"').groupby('symbol')[\"value\"].sum()\n",
    "quote_counts = trade_count_aggs.query('aggregate == \"QuoteCount\"').groupby('symbol')[\"value\"].sum()\n",
    "pd.DataFrame(trade_counts)\n",
    "\n",
    "pd.merge(trade_counts, quote_counts, on='symbol', how='outer').query('value_x == 0')\n"
   ],
   "metadata": {
    "collapsed": false,
    "ExecuteTime": {
     "end_time": "2024-02-24T18:43:05.698542606Z",
     "start_time": "2024-02-24T18:43:05.657228247Z"
    }
   },
   "id": "beeb59ee245e3054",
   "execution_count": 3
  },
  {
   "cell_type": "code",
   "execution_count": 9,
   "id": "41d488f1-34e1-4c88-9a8c-a5ca78645b74",
   "metadata": {
    "ExecuteTime": {
     "end_time": "2024-02-11T12:49:31.046458659Z",
     "start_time": "2024-02-11T12:49:31.003865214Z"
    }
   },
   "outputs": [
    {
     "data": {
      "text/plain": "Empty DataFrame\nColumns: [symbol, slice, aggregate, value]\nIndex: []",
      "text/html": "<div>\n<style scoped>\n    .dataframe tbody tr th:only-of-type {\n        vertical-align: middle;\n    }\n\n    .dataframe tbody tr th {\n        vertical-align: top;\n    }\n\n    .dataframe thead th {\n        text-align: right;\n    }\n</style>\n<table border=\"1\" class=\"dataframe\">\n  <thead>\n    <tr style=\"text-align: right;\">\n      <th></th>\n      <th>symbol</th>\n      <th>slice</th>\n      <th>aggregate</th>\n      <th>value</th>\n    </tr>\n  </thead>\n  <tbody>\n  </tbody>\n</table>\n</div>"
     },
     "execution_count": 9,
     "metadata": {},
     "output_type": "execute_result"
    }
   ],
   "source": [
    "import datetime\n",
    "time = datetime.time(15,50,00)\n",
    "aggs.query('slice == @time and value == 0')\n",
    "#aggs.query('symbol == \"PKO\"')"
   ]
  },
  {
   "cell_type": "code",
   "execution_count": 5,
   "id": "d7e44461",
   "metadata": {
    "ExecuteTime": {
     "end_time": "2024-02-24T18:43:53.776539400Z",
     "start_time": "2024-02-24T18:43:52.865266330Z"
    }
   },
   "outputs": [
    {
     "data": {
      "text/plain": "   symbol     slice aggregate     value\n0     PKO  09:00:00    volume       0.0\n1     PKO  09:05:00    volume  100989.0\n2     PKO  09:10:00    volume   16314.0\n3     PKO  09:15:00    volume  159776.0\n4     PKO  09:20:00    volume  113276.0\n..    ...       ...       ...       ...\n78    PKO  15:30:00    volume    9423.0\n79    PKO  15:35:00    volume   17653.0\n80    PKO  15:40:00    volume   16664.0\n81    PKO  15:45:00    volume   23848.0\n82    PKO  15:50:00    volume   10845.0\n\n[83 rows x 4 columns]",
      "text/html": "<div>\n<style scoped>\n    .dataframe tbody tr th:only-of-type {\n        vertical-align: middle;\n    }\n\n    .dataframe tbody tr th {\n        vertical-align: top;\n    }\n\n    .dataframe thead th {\n        text-align: right;\n    }\n</style>\n<table border=\"1\" class=\"dataframe\">\n  <thead>\n    <tr style=\"text-align: right;\">\n      <th></th>\n      <th>symbol</th>\n      <th>slice</th>\n      <th>aggregate</th>\n      <th>value</th>\n    </tr>\n  </thead>\n  <tbody>\n    <tr>\n      <th>0</th>\n      <td>PKO</td>\n      <td>09:00:00</td>\n      <td>volume</td>\n      <td>0.0</td>\n    </tr>\n    <tr>\n      <th>1</th>\n      <td>PKO</td>\n      <td>09:05:00</td>\n      <td>volume</td>\n      <td>100989.0</td>\n    </tr>\n    <tr>\n      <th>2</th>\n      <td>PKO</td>\n      <td>09:10:00</td>\n      <td>volume</td>\n      <td>16314.0</td>\n    </tr>\n    <tr>\n      <th>3</th>\n      <td>PKO</td>\n      <td>09:15:00</td>\n      <td>volume</td>\n      <td>159776.0</td>\n    </tr>\n    <tr>\n      <th>4</th>\n      <td>PKO</td>\n      <td>09:20:00</td>\n      <td>volume</td>\n      <td>113276.0</td>\n    </tr>\n    <tr>\n      <th>...</th>\n      <td>...</td>\n      <td>...</td>\n      <td>...</td>\n      <td>...</td>\n    </tr>\n    <tr>\n      <th>78</th>\n      <td>PKO</td>\n      <td>15:30:00</td>\n      <td>volume</td>\n      <td>9423.0</td>\n    </tr>\n    <tr>\n      <th>79</th>\n      <td>PKO</td>\n      <td>15:35:00</td>\n      <td>volume</td>\n      <td>17653.0</td>\n    </tr>\n    <tr>\n      <th>80</th>\n      <td>PKO</td>\n      <td>15:40:00</td>\n      <td>volume</td>\n      <td>16664.0</td>\n    </tr>\n    <tr>\n      <th>81</th>\n      <td>PKO</td>\n      <td>15:45:00</td>\n      <td>volume</td>\n      <td>23848.0</td>\n    </tr>\n    <tr>\n      <th>82</th>\n      <td>PKO</td>\n      <td>15:50:00</td>\n      <td>volume</td>\n      <td>10845.0</td>\n    </tr>\n  </tbody>\n</table>\n<p>83 rows × 4 columns</p>\n</div>"
     },
     "execution_count": 5,
     "metadata": {},
     "output_type": "execute_result"
    }
   ],
   "source": [
    "import sys\n",
    "import aggregator\n",
    "import filters\n",
    "\n",
    "\n",
    "class volumeAggregate(aggregator.Aggregate):\n",
    "    def __init__(self, region, symbol):\n",
    "        self.volume = 0\n",
    "\n",
    "    def on_quote(self, quote):\n",
    "        pass\n",
    "\n",
    "    def on_trade(self, trade):\n",
    "        self.volume += trade.trade_volume\n",
    "\n",
    "    def compute_slice(self, slice):\n",
    "        ret = self.volume\n",
    "        self.volume = 0\n",
    "        return ret\n",
    "\n",
    "\n",
    "agg = aggregator.Aggregator(WSE(), \"20240122\", filters.SymbolFilter('PKO'))\n",
    "agg.registerAggregate(volumeAggregate)\n",
    "agg.run()"
   ]
  },
  {
   "cell_type": "code",
   "execution_count": null,
   "id": "54bfbaae",
   "metadata": {},
   "outputs": [],
   "source": []
  },
  {
   "cell_type": "code",
   "execution_count": null,
   "id": "bdb1ff0b",
   "metadata": {},
   "outputs": [],
   "source": []
  }
 ],
 "metadata": {
  "kernelspec": {
   "display_name": "Python 3 (ipykernel)",
   "language": "python",
   "name": "python3"
  },
  "language_info": {
   "codemirror_mode": {
    "name": "ipython",
    "version": 3
   },
   "file_extension": ".py",
   "mimetype": "text/x-python",
   "name": "python",
   "nbconvert_exporter": "python",
   "pygments_lexer": "ipython3",
   "version": "3.12.2"
  }
 },
 "nbformat": 4,
 "nbformat_minor": 5
}
