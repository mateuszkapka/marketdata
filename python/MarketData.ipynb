{
 "cells": [
  {
   "cell_type": "code",
   "execution_count": 9,
   "id": "9df047bc",
   "metadata": {
    "ExecuteTime": {
     "end_time": "2024-03-02T19:26:14.499792715Z",
     "start_time": "2024-03-02T19:26:14.482101983Z"
    }
   },
   "outputs": [],
   "source": [
    "import math\n",
    "import os;\n",
    "import sys;\n",
    "\n",
    "import numpy as np\n",
    "\n",
    "sys.path.append(\"venv\")\n",
    "import pandas as pd\n",
    "import datetime"
   ]
  },
  {
   "cell_type": "code",
   "execution_count": null,
   "id": "37d66d74990e5f3a",
   "metadata": {
    "collapsed": false
   },
   "outputs": [],
   "source": []
  },
  {
   "cell_type": "code",
   "execution_count": 3,
   "id": "2e99082d",
   "metadata": {
    "ExecuteTime": {
     "end_time": "2024-03-17T18:34:12.206982897Z",
     "start_time": "2024-03-17T18:34:12.174851675Z"
    }
   },
   "outputs": [
    {
     "data": {
      "text/plain": "    symbol               slice   aggregate_name      value\n0      RNK 2024-01-22 09:00:00  VolumeAggregate     3000.0\n1      RNK 2024-01-22 09:00:00  SimpleAggregate     3000.0\n2      RNK 2024-01-22 09:05:00  VolumeAggregate    69633.0\n3      RNK 2024-01-22 09:05:00  SimpleAggregate    69633.0\n4      OPL 2024-01-22 09:10:00  VolumeAggregate     8663.0\n..     ...                 ...              ...        ...\n161    ALR 2024-01-22 15:40:00  SimpleAggregate    46330.0\n162    OPL 2024-01-22 15:45:00  VolumeAggregate   952174.0\n163    OPL 2024-01-22 15:45:00  SimpleAggregate   952174.0\n164    TRK 2024-01-22 15:50:00  VolumeAggregate  1039382.0\n165    TRK 2024-01-22 15:50:00  SimpleAggregate  1039382.0\n\n[166 rows x 4 columns]",
      "text/html": "<div>\n<style scoped>\n    .dataframe tbody tr th:only-of-type {\n        vertical-align: middle;\n    }\n\n    .dataframe tbody tr th {\n        vertical-align: top;\n    }\n\n    .dataframe thead th {\n        text-align: right;\n    }\n</style>\n<table border=\"1\" class=\"dataframe\">\n  <thead>\n    <tr style=\"text-align: right;\">\n      <th></th>\n      <th>symbol</th>\n      <th>slice</th>\n      <th>aggregate_name</th>\n      <th>value</th>\n    </tr>\n  </thead>\n  <tbody>\n    <tr>\n      <th>0</th>\n      <td>RNK</td>\n      <td>2024-01-22 09:00:00</td>\n      <td>VolumeAggregate</td>\n      <td>3000.0</td>\n    </tr>\n    <tr>\n      <th>1</th>\n      <td>RNK</td>\n      <td>2024-01-22 09:00:00</td>\n      <td>SimpleAggregate</td>\n      <td>3000.0</td>\n    </tr>\n    <tr>\n      <th>2</th>\n      <td>RNK</td>\n      <td>2024-01-22 09:05:00</td>\n      <td>VolumeAggregate</td>\n      <td>69633.0</td>\n    </tr>\n    <tr>\n      <th>3</th>\n      <td>RNK</td>\n      <td>2024-01-22 09:05:00</td>\n      <td>SimpleAggregate</td>\n      <td>69633.0</td>\n    </tr>\n    <tr>\n      <th>4</th>\n      <td>OPL</td>\n      <td>2024-01-22 09:10:00</td>\n      <td>VolumeAggregate</td>\n      <td>8663.0</td>\n    </tr>\n    <tr>\n      <th>...</th>\n      <td>...</td>\n      <td>...</td>\n      <td>...</td>\n      <td>...</td>\n    </tr>\n    <tr>\n      <th>161</th>\n      <td>ALR</td>\n      <td>2024-01-22 15:40:00</td>\n      <td>SimpleAggregate</td>\n      <td>46330.0</td>\n    </tr>\n    <tr>\n      <th>162</th>\n      <td>OPL</td>\n      <td>2024-01-22 15:45:00</td>\n      <td>VolumeAggregate</td>\n      <td>952174.0</td>\n    </tr>\n    <tr>\n      <th>163</th>\n      <td>OPL</td>\n      <td>2024-01-22 15:45:00</td>\n      <td>SimpleAggregate</td>\n      <td>952174.0</td>\n    </tr>\n    <tr>\n      <th>164</th>\n      <td>TRK</td>\n      <td>2024-01-22 15:50:00</td>\n      <td>VolumeAggregate</td>\n      <td>1039382.0</td>\n    </tr>\n    <tr>\n      <th>165</th>\n      <td>TRK</td>\n      <td>2024-01-22 15:50:00</td>\n      <td>SimpleAggregate</td>\n      <td>1039382.0</td>\n    </tr>\n  </tbody>\n</table>\n<p>166 rows × 4 columns</p>\n</div>"
     },
     "execution_count": 3,
     "metadata": {},
     "output_type": "execute_result"
    }
   ],
   "source": [
    "import pandas as pd\n",
    "df = pd.read_parquet('/scratch/aggregate_data/20240122_WSE.parquet', engine='pyarrow')\n",
    "df"
   ]
  },
  {
   "cell_type": "code",
   "outputs": [],
   "source": [],
   "metadata": {
    "collapsed": false
   },
   "id": "ed3ce69f05f0b5a4"
  },
  {
   "cell_type": "code",
   "execution_count": null,
   "id": "c647d11a7fb58412",
   "metadata": {
    "collapsed": false,
    "ExecuteTime": {
     "start_time": "2024-02-26T20:09:58.674035472Z"
    }
   },
   "outputs": [],
   "source": [
    "nadaq_raw_data = pd.read_parquet('../normalised_data/NASDAQ.parquet', engine='pyarrow')\n",
    "wse_raw_data = pd.read_parquet('../normalised_data/WSE.parquet', engine='pyarrow') "
   ]
  },
  {
   "cell_type": "code",
   "outputs": [
    {
     "data": {
      "text/plain": "                        timestamp  trade_price\n1358      2024-01-22 09:00:00.128          NaN\n1362      2024-01-22 09:00:00.128          NaN\n1536      2024-01-22 09:00:00.130          NaN\n1690      2024-01-22 09:00:00.133          NaN\n2473      2024-01-22 09:00:00.200          NaN\n...                           ...          ...\n259996165 2024-01-22 21:28:39.400          NaN\n259996609 2024-01-22 21:28:46.874          NaN\n259996610 2024-01-22 21:28:46.874          NaN\n259996611 2024-01-22 21:28:46.874        193.7\n259998828 2024-01-22 21:29:13.321          NaN\n\n[1774333 rows x 2 columns]",
      "text/html": "<div>\n<style scoped>\n    .dataframe tbody tr th:only-of-type {\n        vertical-align: middle;\n    }\n\n    .dataframe tbody tr th {\n        vertical-align: top;\n    }\n\n    .dataframe thead th {\n        text-align: right;\n    }\n</style>\n<table border=\"1\" class=\"dataframe\">\n  <thead>\n    <tr style=\"text-align: right;\">\n      <th></th>\n      <th>timestamp</th>\n      <th>trade_price</th>\n    </tr>\n  </thead>\n  <tbody>\n    <tr>\n      <th>1358</th>\n      <td>2024-01-22 09:00:00.128</td>\n      <td>NaN</td>\n    </tr>\n    <tr>\n      <th>1362</th>\n      <td>2024-01-22 09:00:00.128</td>\n      <td>NaN</td>\n    </tr>\n    <tr>\n      <th>1536</th>\n      <td>2024-01-22 09:00:00.130</td>\n      <td>NaN</td>\n    </tr>\n    <tr>\n      <th>1690</th>\n      <td>2024-01-22 09:00:00.133</td>\n      <td>NaN</td>\n    </tr>\n    <tr>\n      <th>2473</th>\n      <td>2024-01-22 09:00:00.200</td>\n      <td>NaN</td>\n    </tr>\n    <tr>\n      <th>...</th>\n      <td>...</td>\n      <td>...</td>\n    </tr>\n    <tr>\n      <th>259996165</th>\n      <td>2024-01-22 21:28:39.400</td>\n      <td>NaN</td>\n    </tr>\n    <tr>\n      <th>259996609</th>\n      <td>2024-01-22 21:28:46.874</td>\n      <td>NaN</td>\n    </tr>\n    <tr>\n      <th>259996610</th>\n      <td>2024-01-22 21:28:46.874</td>\n      <td>NaN</td>\n    </tr>\n    <tr>\n      <th>259996611</th>\n      <td>2024-01-22 21:28:46.874</td>\n      <td>193.7</td>\n    </tr>\n    <tr>\n      <th>259998828</th>\n      <td>2024-01-22 21:29:13.321</td>\n      <td>NaN</td>\n    </tr>\n  </tbody>\n</table>\n<p>1774333 rows × 2 columns</p>\n</div>"
     },
     "execution_count": 25,
     "metadata": {},
     "output_type": "execute_result"
    }
   ],
   "source": [
    "# nadaq_raw_data.query(\"symbol == 'AAPL'\")[['timestamp', 'trade_price']]\n",
    "# wse_raw_data.query(\"symbol == 'PKO'\")\n",
    "\n"
   ],
   "metadata": {
    "collapsed": false,
    "ExecuteTime": {
     "end_time": "2024-02-25T14:15:01.178861443Z",
     "start_time": "2024-02-25T14:14:55.741850838Z"
    }
   },
   "id": "8f88df0e026606ae",
   "execution_count": 25
  },
  {
   "cell_type": "code",
   "execution_count": 100,
   "id": "50b8ea2e",
   "metadata": {
    "ExecuteTime": {
     "end_time": "2024-03-02T20:51:28.641754790Z",
     "start_time": "2024-03-02T20:51:26.688614972Z"
    }
   },
   "outputs": [],
   "source": [
    "from regionConfig.WSE import WSE\n",
    "from regionConfig.NASDAQ import NASDAQ\n",
    "# Spread sizes\n",
    "\n",
    "import aggregator\n",
    "import filters\n",
    "\n",
    "\n",
    "class SpreadByTickSizeAggregate(aggregator.Aggregate):\n",
    "    def __init__(self, region, symbol):\n",
    "        self.last_bid = 0.0\n",
    "        self.last_ask = 0.0\n",
    "        self.region = region\n",
    "        self.tick_series = []\n",
    "        self.spread = 0\n",
    "\n",
    "    def on_quote(self, quote):\n",
    "        self.spread = quote.ask_price - quote.bid_price\n",
    "\n",
    "    def on_trade(self, trade):\n",
    "        tick_size = self.region.get_tick_size(trade.trade_price, trade.symbol)\n",
    "        if tick_size != 0 and self.spread > 0:\n",
    "            self.tick_series.append(self.spread / tick_size)\n",
    "\n",
    "    def compute_slice(self, slice):\n",
    "        if len(self.tick_series) == 0:\n",
    "            return 0\n",
    "\n",
    "        value = sum(self.tick_series) / len(self.tick_series)\n",
    "        return value\n",
    "\n",
    "\n",
    "\n",
    "agg = aggregator.Aggregator( WSE(),\"20240122\")\n",
    "agg.registerAggregate(SpreadByTickSizeAggregate)\n",
    "aggs_wse = agg.run()\n",
    "\n",
    "# agg = aggregator.Aggregator(NASDAQ(),\"20240122\")\n",
    "# agg.registerAggregate(SpreadByTickSizeAggregate)\n",
    "# aggs_nasdaq = agg.run()"
   ]
  },
  {
   "cell_type": "code",
   "outputs": [
    {
     "data": {
      "text/plain": "165      2785.714286\n248      3875.968992\n331       230.714286\n497       247.619048\n580       680.000000\n            ...     \n64905     437.500000\n64988    1860.869565\n65071     102.129630\n65237    2440.000000\n65320    1971.428571\nName: value, Length: 590, dtype: float64"
     },
     "execution_count": 69,
     "metadata": {},
     "output_type": "execute_result"
    }
   ],
   "source": [
    "aggs_wse.query(\"slice == @eod_slice and value != 0.0\")['value'].c"
   ],
   "metadata": {
    "collapsed": false,
    "ExecuteTime": {
     "end_time": "2024-02-27T20:21:44.558083206Z",
     "start_time": "2024-02-27T20:21:44.475113738Z"
    }
   },
   "id": "c38be183b39594b9",
   "execution_count": 69
  },
  {
   "cell_type": "code",
   "outputs": [
    {
     "data": {
      "text/plain": "symbol       482\nslice        482\naggregate    482\nvalue        482\ndtype: int64"
     },
     "metadata": {},
     "output_type": "display_data"
    },
    {
     "data": {
      "text/plain": "symbol       478\nslice        478\naggregate    478\nvalue        478\ndtype: int64"
     },
     "execution_count": 68,
     "metadata": {},
     "output_type": "execute_result"
    },
    {
     "data": {
      "text/plain": "<Figure size 640x480 with 1 Axes>",
      "image/png": "[encoded data removed]"
     },
     "metadata": {},
     "output_type": "display_data"
    }
   ],
   "source": [
    "import datetime\n",
    "import numpy\n",
    "import matplotlib.pyplot as plt\n",
    "\n",
    "eod_slice = datetime.time(15,50,00)\n",
    "aggs_nasdaq.query(\"slice == @eod_slice and value != 0.0\")['value'].clip(0,500).hist(bins=numpy.arange(start=0, stop=500, step=10, dtype=None) )\n",
    "plt.ylim(0,50)\n",
    "plt.title('NASDAQ')\n",
    "\n",
    "\n",
    "aggs_wse.query(\"slice == @eod_slice and value != 0.0\")['value'].clip(0,500).hist(bins=numpy.arange(start=0, stop=500, step=10, dtype=None) )\n",
    "plt.ylim(0,50)\n",
    "plt.title('WSE')\n",
    "\n",
    "\n",
    "display(aggs_nasdaq.query(\"slice == @eod_slice and value != 0.0 and value > 100\").count())\n",
    "aggs_wse.query(\"slice == @eod_slice and value != 0.0 and value > 100\").count()"
   ],
   "metadata": {
    "collapsed": false,
    "ExecuteTime": {
     "end_time": "2024-02-26T21:35:06.987735043Z",
     "start_time": "2024-02-26T21:35:06.784936040Z"
    }
   },
   "id": "a2144c681399b944",
   "execution_count": 68
  },
  {
   "cell_type": "code",
   "outputs": [],
   "source": [],
   "metadata": {
    "collapsed": false
   },
   "id": "4d54aeacf8c39fef"
  },
  {
   "cell_type": "code",
   "outputs": [
    {
     "data": {
      "text/plain": "       symbol     slice         aggregate  value\n0        WMPN  09:00:00  SpreadByTickSize   0.00\n1        WMPN  09:05:00  SpreadByTickSize   0.00\n2        WMPN  09:10:00  SpreadByTickSize   0.00\n3        WMPN  09:15:00  SpreadByTickSize   0.00\n4        WMPN  09:20:00  SpreadByTickSize   0.00\n...       ...       ...               ...    ...\n778535  HPP-C  15:30:00  SpreadByTickSize  78.25\n778536  HPP-C  15:35:00  SpreadByTickSize  78.25\n778537  HPP-C  15:40:00  SpreadByTickSize  78.25\n778538  HPP-C  15:45:00  SpreadByTickSize  78.25\n778539  HPP-C  15:50:00  SpreadByTickSize  78.25\n\n[778540 rows x 4 columns]",
      "text/html": "<div>\n<style scoped>\n    .dataframe tbody tr th:only-of-type {\n        vertical-align: middle;\n    }\n\n    .dataframe tbody tr th {\n        vertical-align: top;\n    }\n\n    .dataframe thead th {\n        text-align: right;\n    }\n</style>\n<table border=\"1\" class=\"dataframe\">\n  <thead>\n    <tr style=\"text-align: right;\">\n      <th></th>\n      <th>symbol</th>\n      <th>slice</th>\n      <th>aggregate</th>\n      <th>value</th>\n    </tr>\n  </thead>\n  <tbody>\n    <tr>\n      <th>0</th>\n      <td>WMPN</td>\n      <td>09:00:00</td>\n      <td>SpreadByTickSize</td>\n      <td>0.00</td>\n    </tr>\n    <tr>\n      <th>1</th>\n      <td>WMPN</td>\n      <td>09:05:00</td>\n      <td>SpreadByTickSize</td>\n      <td>0.00</td>\n    </tr>\n    <tr>\n      <th>2</th>\n      <td>WMPN</td>\n      <td>09:10:00</td>\n      <td>SpreadByTickSize</td>\n      <td>0.00</td>\n    </tr>\n    <tr>\n      <th>3</th>\n      <td>WMPN</td>\n      <td>09:15:00</td>\n      <td>SpreadByTickSize</td>\n      <td>0.00</td>\n    </tr>\n    <tr>\n      <th>4</th>\n      <td>WMPN</td>\n      <td>09:20:00</td>\n      <td>SpreadByTickSize</td>\n      <td>0.00</td>\n    </tr>\n    <tr>\n      <th>...</th>\n      <td>...</td>\n      <td>...</td>\n      <td>...</td>\n      <td>...</td>\n    </tr>\n    <tr>\n      <th>778535</th>\n      <td>HPP-C</td>\n      <td>15:30:00</td>\n      <td>SpreadByTickSize</td>\n      <td>78.25</td>\n    </tr>\n    <tr>\n      <th>778536</th>\n      <td>HPP-C</td>\n      <td>15:35:00</td>\n      <td>SpreadByTickSize</td>\n      <td>78.25</td>\n    </tr>\n    <tr>\n      <th>778537</th>\n      <td>HPP-C</td>\n      <td>15:40:00</td>\n      <td>SpreadByTickSize</td>\n      <td>78.25</td>\n    </tr>\n    <tr>\n      <th>778538</th>\n      <td>HPP-C</td>\n      <td>15:45:00</td>\n      <td>SpreadByTickSize</td>\n      <td>78.25</td>\n    </tr>\n    <tr>\n      <th>778539</th>\n      <td>HPP-C</td>\n      <td>15:50:00</td>\n      <td>SpreadByTickSize</td>\n      <td>78.25</td>\n    </tr>\n  </tbody>\n</table>\n<p>778540 rows × 4 columns</p>\n</div>"
     },
     "execution_count": 88,
     "metadata": {},
     "output_type": "execute_result"
    }
   ],
   "source": [
    "aggs_nasdaq = pd.read_parquet('aggs_nasdaq', engine='pyarrow')\n",
    "aggs_nasdaq"
   ],
   "metadata": {
    "collapsed": false,
    "ExecuteTime": {
     "end_time": "2024-03-02T20:46:58.132498180Z",
     "start_time": "2024-03-02T20:46:58.075084405Z"
    }
   },
   "id": "d08e7dce6be6490f",
   "execution_count": 88
  },
  {
   "cell_type": "code",
   "outputs": [],
   "source": [
    "bin_setup = np.arange(start=0, stop=10_000, step=50).tolist()\n",
    "eod_slice = datetime.time(15,50,00)\n",
    "bins = pd.cut(aggs_wse.query(\"slice == @eod_slice and value != 0.0\")['value'].clip(0,10_000), bin_setup)\n",
    "aggs_wse.insert(2,'bin',bins)\n"
   ],
   "metadata": {
    "collapsed": false,
    "ExecuteTime": {
     "end_time": "2024-03-02T20:51:54.094431200Z",
     "start_time": "2024-03-02T20:51:54.046913558Z"
    }
   },
   "id": "70e5db32845d2486",
   "execution_count": 101
  },
  {
   "cell_type": "code",
   "outputs": [
    {
     "name": "stderr",
     "output_type": "stream",
     "text": [
      "/tmp/ipykernel_6073/1264803960.py:1: FutureWarning: The default of observed=False is deprecated and will be changed to True in a future version of pandas. Pass observed=False to retain current behavior or observed=True to adopt the future default and silence this warning.\n",
      "  groupe_wse = aggs_wse.groupby(['bin']).size().reset_index(name='counts')\n"
     ]
    },
    {
     "data": {
      "text/plain": "              bin  counts  total_count  percent_distribution\n0         (0, 50]      66          558              0.118280\n1       (50, 100]      46          558              0.082437\n2      (100, 150]      36          558              0.064516\n3      (150, 200]      46          558              0.082437\n4      (200, 250]      35          558              0.062724\n..            ...     ...          ...                   ...\n194  (9700, 9750]       0          558              0.000000\n195  (9750, 9800]       1          558              0.001792\n196  (9800, 9850]       0          558              0.000000\n197  (9850, 9900]       0          558              0.000000\n198  (9900, 9950]       0          558              0.000000\n\n[199 rows x 4 columns]",
      "text/html": "<div>\n<style scoped>\n    .dataframe tbody tr th:only-of-type {\n        vertical-align: middle;\n    }\n\n    .dataframe tbody tr th {\n        vertical-align: top;\n    }\n\n    .dataframe thead th {\n        text-align: right;\n    }\n</style>\n<table border=\"1\" class=\"dataframe\">\n  <thead>\n    <tr style=\"text-align: right;\">\n      <th></th>\n      <th>bin</th>\n      <th>counts</th>\n      <th>total_count</th>\n      <th>percent_distribution</th>\n    </tr>\n  </thead>\n  <tbody>\n    <tr>\n      <th>0</th>\n      <td>(0, 50]</td>\n      <td>66</td>\n      <td>558</td>\n      <td>0.118280</td>\n    </tr>\n    <tr>\n      <th>1</th>\n      <td>(50, 100]</td>\n      <td>46</td>\n      <td>558</td>\n      <td>0.082437</td>\n    </tr>\n    <tr>\n      <th>2</th>\n      <td>(100, 150]</td>\n      <td>36</td>\n      <td>558</td>\n      <td>0.064516</td>\n    </tr>\n    <tr>\n      <th>3</th>\n      <td>(150, 200]</td>\n      <td>46</td>\n      <td>558</td>\n      <td>0.082437</td>\n    </tr>\n    <tr>\n      <th>4</th>\n      <td>(200, 250]</td>\n      <td>35</td>\n      <td>558</td>\n      <td>0.062724</td>\n    </tr>\n    <tr>\n      <th>...</th>\n      <td>...</td>\n      <td>...</td>\n      <td>...</td>\n      <td>...</td>\n    </tr>\n    <tr>\n      <th>194</th>\n      <td>(9700, 9750]</td>\n      <td>0</td>\n      <td>558</td>\n      <td>0.000000</td>\n    </tr>\n    <tr>\n      <th>195</th>\n      <td>(9750, 9800]</td>\n      <td>1</td>\n      <td>558</td>\n      <td>0.001792</td>\n    </tr>\n    <tr>\n      <th>196</th>\n      <td>(9800, 9850]</td>\n      <td>0</td>\n      <td>558</td>\n      <td>0.000000</td>\n    </tr>\n    <tr>\n      <th>197</th>\n      <td>(9850, 9900]</td>\n      <td>0</td>\n      <td>558</td>\n      <td>0.000000</td>\n    </tr>\n    <tr>\n      <th>198</th>\n      <td>(9900, 9950]</td>\n      <td>0</td>\n      <td>558</td>\n      <td>0.000000</td>\n    </tr>\n  </tbody>\n</table>\n<p>199 rows × 4 columns</p>\n</div>"
     },
     "metadata": {},
     "output_type": "display_data"
    }
   ],
   "source": [
    "\n",
    "\n",
    "groupe_wse = aggs_wse.groupby(['bin']).size().reset_index(name='counts')\n",
    "groupe_wse['total_count'] = groupe_wse ['counts'].sum()\n",
    "groupe_wse['percent_distribution'] =  groupe_wse['counts']/ groupe_wse['total_count']\n",
    "\n",
    "display(groupe_wse)"
   ],
   "metadata": {
    "collapsed": false,
    "ExecuteTime": {
     "end_time": "2024-03-02T20:51:56.144708417Z",
     "start_time": "2024-03-02T20:51:56.098513047Z"
    }
   },
   "id": "8862be873e376fad",
   "execution_count": 102
  },
  {
   "cell_type": "code",
   "outputs": [],
   "source": [
    "nasdaq_bin_setup = np.arange(start=0, stop=10_000, step=50).tolist()\n",
    "eod_slice = datetime.time(15,50,00)\n",
    "nasdaq_bins = pd.cut(aggs_nasdaq.query(\"slice == @eod_slice and value != 0.0\")['value'].clip(0,500), nasdaq_bin_setup)\n",
    "aggs_nasdaq.insert(2,'bin',bins)"
   ],
   "metadata": {
    "collapsed": false,
    "ExecuteTime": {
     "end_time": "2024-03-02T20:48:13.506176408Z",
     "start_time": "2024-03-02T20:48:13.432789063Z"
    }
   },
   "id": "c9e8a090c040f5fc",
   "execution_count": 90
  },
  {
   "cell_type": "code",
   "outputs": [
    {
     "data": {
      "text/plain": "      symbol     slice  nasdaq_bin         bin         aggregate       value\n248      SBR  15:50:00  (150, 200]  (450, 500]  SpreadByTickSize  151.500000\n331     ATHE  15:50:00     (0, 50]  (200, 250]  SpreadByTickSize    6.833333\n497      ITW  15:50:00     (0, 50]  (200, 250]  SpreadByTickSize   23.543814\n746     MDLZ  15:50:00     (0, 50]   (50, 100]  SpreadByTickSize    1.633762\n912       OC  15:50:00     (0, 50]  (100, 150]  SpreadByTickSize   24.889273\n...      ...       ...         ...         ...               ...         ...\n63743     AL  15:50:00     (0, 50]   (50, 100]  SpreadByTickSize    4.146409\n63992    FDX  15:50:00     (0, 50]  (200, 250]  SpreadByTickSize   15.914920\n64075    HEI  15:50:00     (0, 50]  (150, 200]  SpreadByTickSize   26.767857\n64739    SLG  15:50:00     (0, 50]  (100, 150]  SpreadByTickSize    8.971259\n65071   CLPS  15:50:00     (0, 50]  (100, 150]  SpreadByTickSize    7.540000\n\n[193 rows x 6 columns]",
      "text/html": "<div>\n<style scoped>\n    .dataframe tbody tr th:only-of-type {\n        vertical-align: middle;\n    }\n\n    .dataframe tbody tr th {\n        vertical-align: top;\n    }\n\n    .dataframe thead th {\n        text-align: right;\n    }\n</style>\n<table border=\"1\" class=\"dataframe\">\n  <thead>\n    <tr style=\"text-align: right;\">\n      <th></th>\n      <th>symbol</th>\n      <th>slice</th>\n      <th>nasdaq_bin</th>\n      <th>bin</th>\n      <th>aggregate</th>\n      <th>value</th>\n    </tr>\n  </thead>\n  <tbody>\n    <tr>\n      <th>248</th>\n      <td>SBR</td>\n      <td>15:50:00</td>\n      <td>(150, 200]</td>\n      <td>(450, 500]</td>\n      <td>SpreadByTickSize</td>\n      <td>151.500000</td>\n    </tr>\n    <tr>\n      <th>331</th>\n      <td>ATHE</td>\n      <td>15:50:00</td>\n      <td>(0, 50]</td>\n      <td>(200, 250]</td>\n      <td>SpreadByTickSize</td>\n      <td>6.833333</td>\n    </tr>\n    <tr>\n      <th>497</th>\n      <td>ITW</td>\n      <td>15:50:00</td>\n      <td>(0, 50]</td>\n      <td>(200, 250]</td>\n      <td>SpreadByTickSize</td>\n      <td>23.543814</td>\n    </tr>\n    <tr>\n      <th>746</th>\n      <td>MDLZ</td>\n      <td>15:50:00</td>\n      <td>(0, 50]</td>\n      <td>(50, 100]</td>\n      <td>SpreadByTickSize</td>\n      <td>1.633762</td>\n    </tr>\n    <tr>\n      <th>912</th>\n      <td>OC</td>\n      <td>15:50:00</td>\n      <td>(0, 50]</td>\n      <td>(100, 150]</td>\n      <td>SpreadByTickSize</td>\n      <td>24.889273</td>\n    </tr>\n    <tr>\n      <th>...</th>\n      <td>...</td>\n      <td>...</td>\n      <td>...</td>\n      <td>...</td>\n      <td>...</td>\n      <td>...</td>\n    </tr>\n    <tr>\n      <th>63743</th>\n      <td>AL</td>\n      <td>15:50:00</td>\n      <td>(0, 50]</td>\n      <td>(50, 100]</td>\n      <td>SpreadByTickSize</td>\n      <td>4.146409</td>\n    </tr>\n    <tr>\n      <th>63992</th>\n      <td>FDX</td>\n      <td>15:50:00</td>\n      <td>(0, 50]</td>\n      <td>(200, 250]</td>\n      <td>SpreadByTickSize</td>\n      <td>15.914920</td>\n    </tr>\n    <tr>\n      <th>64075</th>\n      <td>HEI</td>\n      <td>15:50:00</td>\n      <td>(0, 50]</td>\n      <td>(150, 200]</td>\n      <td>SpreadByTickSize</td>\n      <td>26.767857</td>\n    </tr>\n    <tr>\n      <th>64739</th>\n      <td>SLG</td>\n      <td>15:50:00</td>\n      <td>(0, 50]</td>\n      <td>(100, 150]</td>\n      <td>SpreadByTickSize</td>\n      <td>8.971259</td>\n    </tr>\n    <tr>\n      <th>65071</th>\n      <td>CLPS</td>\n      <td>15:50:00</td>\n      <td>(0, 50]</td>\n      <td>(100, 150]</td>\n      <td>SpreadByTickSize</td>\n      <td>7.540000</td>\n    </tr>\n  </tbody>\n</table>\n<p>193 rows × 6 columns</p>\n</div>"
     },
     "execution_count": 160,
     "metadata": {},
     "output_type": "execute_result"
    }
   ],
   "source": [
    "import math\n",
    "result = []\n",
    "eod_slice_aggs = aggs_nasdaq.query(\"slice == @eod_slice and value != 0\")\n",
    "for row in groupe_wse[groupe_wse[\"counts\"] != 0].itertuples():\n",
    "    aggs_in_bin = eod_slice_aggs[eod_slice_aggs['bin'] == row.bin]\n",
    "    if aggs_in_bin.size != 0:\n",
    "        result.extend(aggs_in_bin.sample(math.floor(row.counts), replace=True)['symbol'].tolist())\n",
    "\n",
    "# display(result)\n",
    "eod_slice_aggs = eod_slice_aggs[eod_slice_aggs['symbol'].isin(result)]\n",
    "nasdaq_bins = pd.cut(eod_slice_aggs.query(\"slice == @eod_slice and value != 0.0\")['value'].clip(0,10_000), bin_setup)\n",
    "eod_slice_aggs.insert(2,'nasdaq_bin',nasdaq_bins)\n",
    "\n",
    "eod_slice_aggs\n",
    "    "
   ],
   "metadata": {
    "collapsed": false,
    "ExecuteTime": {
     "end_time": "2024-03-03T10:56:09.392161101Z",
     "start_time": "2024-03-03T10:56:09.321251176Z"
    }
   },
   "id": "3aef0b8be5dcee5c",
   "execution_count": 160
  },
  {
   "cell_type": "code",
   "outputs": [
    {
     "data": {
      "text/plain": "Text(0.5, 1.0, 'WSE')"
     },
     "execution_count": 54,
     "metadata": {},
     "output_type": "execute_result"
    },
    {
     "data": {
      "text/plain": "<Figure size 640x480 with 1 Axes>",
      "image/png": "[encoded data removed]"
     },
     "metadata": {},
     "output_type": "display_data"
    }
   ],
   "source": [
    "        s    aggs_wse.query(\"slice == @eod_slice and value != 0.0\")['value'].clip(0,500).hist(bins=numpy.arange(start=0, stop=500, step=100, dtype=None) )\n",
    "plt.ylim(0,100)\n",
    "plt.title('WSE')"
   ],
   "metadata": {
    "collapsed": false,
    "ExecuteTime": {
     "end_time": "2024-02-26T20:50:02.974120085Z",
     "start_time": "2024-02-26T20:50:02.909207721Z"
    }
   },
   "id": "876f6aedfc077516",
   "execution_count": 54
  },
  {
   "cell_type": "code",
   "outputs": [
    {
     "data": {
      "text/plain": "symbol       478\nslice        478\naggregate    478\nvalue        478\ndtype: int64"
     },
     "execution_count": 59,
     "metadata": {},
     "output_type": "execute_result"
    }
   ],
   "source": [
    "aggs_wse.query(\"slice == @eod_slice and value != 0.0 and value > 100\").count()"
   ],
   "metadata": {
    "collapsed": false,
    "ExecuteTime": {
     "end_time": "2024-02-26T20:51:14.225540073Z",
     "start_time": "2024-02-26T20:51:14.208578978Z"
    }
   },
   "id": "505fbfb297179da9",
   "execution_count": 59
  },
  {
   "cell_type": "code",
   "outputs": [
    {
     "data": {
      "text/plain": "<Figure size 640x480 with 1 Axes>",
      "image/png": "[encoded data removed]"
     },
     "metadata": {},
     "output_type": "display_data"
    }
   ],
   "source": [
    "aggs = aggs_nasdaq\n",
    "ax = aggs.hist(column='value', bins=100, log=True)"
   ],
   "metadata": {
    "collapsed": false,
    "ExecuteTime": {
     "end_time": "2024-02-25T14:32:41.871882828Z",
     "start_time": "2024-02-25T14:32:41.563814697Z"
    }
   },
   "id": "6b0d0b3e0fb542ee",
   "execution_count": 7
  },
  {
   "cell_type": "code",
   "outputs": [
    {
     "data": {
      "text/plain": "       symbol     slice   aggregate  value\n0         YAN  09:00:00  TradeCount      0\n1         YAN  09:05:00  TradeCount      0\n2         YAN  09:10:00  TradeCount      0\n3         YAN  09:15:00  TradeCount      0\n4         YAN  09:20:00  TradeCount      0\n...       ...       ...         ...    ...\n130637    ZAP  15:30:00  QuoteCount      0\n130638    ZAP  15:35:00  QuoteCount      1\n130639    ZAP  15:40:00  QuoteCount      2\n130640    ZAP  15:45:00  QuoteCount      1\n130641    ZAP  15:50:00  QuoteCount      0\n\n[130642 rows x 4 columns]",
      "text/html": "<div>\n<style scoped>\n    .dataframe tbody tr th:only-of-type {\n        vertical-align: middle;\n    }\n\n    .dataframe tbody tr th {\n        vertical-align: top;\n    }\n\n    .dataframe thead th {\n        text-align: right;\n    }\n</style>\n<table border=\"1\" class=\"dataframe\">\n  <thead>\n    <tr style=\"text-align: right;\">\n      <th></th>\n      <th>symbol</th>\n      <th>slice</th>\n      <th>aggregate</th>\n      <th>value</th>\n    </tr>\n  </thead>\n  <tbody>\n    <tr>\n      <th>0</th>\n      <td>YAN</td>\n      <td>09:00:00</td>\n      <td>TradeCount</td>\n      <td>0</td>\n    </tr>\n    <tr>\n      <th>1</th>\n      <td>YAN</td>\n      <td>09:05:00</td>\n      <td>TradeCount</td>\n      <td>0</td>\n    </tr>\n    <tr>\n      <th>2</th>\n      <td>YAN</td>\n      <td>09:10:00</td>\n      <td>TradeCount</td>\n      <td>0</td>\n    </tr>\n    <tr>\n      <th>3</th>\n      <td>YAN</td>\n      <td>09:15:00</td>\n      <td>TradeCount</td>\n      <td>0</td>\n    </tr>\n    <tr>\n      <th>4</th>\n      <td>YAN</td>\n      <td>09:20:00</td>\n      <td>TradeCount</td>\n      <td>0</td>\n    </tr>\n    <tr>\n      <th>...</th>\n      <td>...</td>\n      <td>...</td>\n      <td>...</td>\n      <td>...</td>\n    </tr>\n    <tr>\n      <th>130637</th>\n      <td>ZAP</td>\n      <td>15:30:00</td>\n      <td>QuoteCount</td>\n      <td>0</td>\n    </tr>\n    <tr>\n      <th>130638</th>\n      <td>ZAP</td>\n      <td>15:35:00</td>\n      <td>QuoteCount</td>\n      <td>1</td>\n    </tr>\n    <tr>\n      <th>130639</th>\n      <td>ZAP</td>\n      <td>15:40:00</td>\n      <td>QuoteCount</td>\n      <td>2</td>\n    </tr>\n    <tr>\n      <th>130640</th>\n      <td>ZAP</td>\n      <td>15:45:00</td>\n      <td>QuoteCount</td>\n      <td>1</td>\n    </tr>\n    <tr>\n      <th>130641</th>\n      <td>ZAP</td>\n      <td>15:50:00</td>\n      <td>QuoteCount</td>\n      <td>0</td>\n    </tr>\n  </tbody>\n</table>\n<p>130642 rows × 4 columns</p>\n</div>"
     },
     "execution_count": 2,
     "metadata": {},
     "output_type": "execute_result"
    }
   ],
   "source": [
    "from regionConfig.WSE import WSE\n",
    "# Spread sizes\n",
    "\n",
    "import aggregator\n",
    "import filters\n",
    "\n",
    "class TradeCountAggregate(aggregator.Aggregate):\n",
    "    def __init__(self, region, symbol):\n",
    "        self.trade_count = 0\n",
    "\n",
    "    def on_quote(self, quote):\n",
    "        pass\n",
    "\n",
    "    def on_trade(self, trade):\n",
    "        self.trade_count+=1\n",
    "\n",
    "    def compute_slice(self, slice):\n",
    "        val = self.trade_count\n",
    "        self.trade_count = 0 \n",
    "        return val\n",
    "    \n",
    "class QuoteCountAggregate(aggregator.Aggregate):\n",
    "    def __init__(self, region, symbol):\n",
    "        self.quote_count = 0\n",
    "\n",
    "    def on_quote(self, quote):\n",
    "        self.quote_count+=1\n",
    "\n",
    "    def on_trade(self, trade):\n",
    "        pass\n",
    "\n",
    "    def compute_slice(self, slice):\n",
    "        val = self.quote_count\n",
    "        self.quote_count = 0 \n",
    "        return val\n",
    "\n",
    "agg = aggregator.Aggregator(WSE(),\"20240122\" )\n",
    "agg.registerAggregate(TradeCountAggregate)\n",
    "agg.registerAggregate(QuoteCountAggregate)\n",
    "trade_count_aggs = agg.run()\n",
    "trade_count_aggs"
   ],
   "metadata": {
    "collapsed": false,
    "ExecuteTime": {
     "end_time": "2024-02-24T18:29:31.111377219Z",
     "start_time": "2024-02-24T18:29:29.481617624Z"
    }
   },
   "id": "5f40f7c6fc2fbf33",
   "execution_count": 2
  },
  {
   "cell_type": "code",
   "outputs": [
    {
     "data": {
      "text/plain": "        value_x  value_y\nsymbol                  \n7FT           0        2\nAAS           0        1\nABK           0        2\nADS           0     2198\nAFC           0        1\n...         ...      ...\nXBS           0        3\nYAN           0       10\nYBS           0        2\nYOL           0        5\nZAL           0     3658\n\n[165 rows x 2 columns]",
      "text/html": "<div>\n<style scoped>\n    .dataframe tbody tr th:only-of-type {\n        vertical-align: middle;\n    }\n\n    .dataframe tbody tr th {\n        vertical-align: top;\n    }\n\n    .dataframe thead th {\n        text-align: right;\n    }\n</style>\n<table border=\"1\" class=\"dataframe\">\n  <thead>\n    <tr style=\"text-align: right;\">\n      <th></th>\n      <th>value_x</th>\n      <th>value_y</th>\n    </tr>\n    <tr>\n      <th>symbol</th>\n      <th></th>\n      <th></th>\n    </tr>\n  </thead>\n  <tbody>\n    <tr>\n      <th>7FT</th>\n      <td>0</td>\n      <td>2</td>\n    </tr>\n    <tr>\n      <th>AAS</th>\n      <td>0</td>\n      <td>1</td>\n    </tr>\n    <tr>\n      <th>ABK</th>\n      <td>0</td>\n      <td>2</td>\n    </tr>\n    <tr>\n      <th>ADS</th>\n      <td>0</td>\n      <td>2198</td>\n    </tr>\n    <tr>\n      <th>AFC</th>\n      <td>0</td>\n      <td>1</td>\n    </tr>\n    <tr>\n      <th>...</th>\n      <td>...</td>\n      <td>...</td>\n    </tr>\n    <tr>\n      <th>XBS</th>\n      <td>0</td>\n      <td>3</td>\n    </tr>\n    <tr>\n      <th>YAN</th>\n      <td>0</td>\n      <td>10</td>\n    </tr>\n    <tr>\n      <th>YBS</th>\n      <td>0</td>\n      <td>2</td>\n    </tr>\n    <tr>\n      <th>YOL</th>\n      <td>0</td>\n      <td>5</td>\n    </tr>\n    <tr>\n      <th>ZAL</th>\n      <td>0</td>\n      <td>3658</td>\n    </tr>\n  </tbody>\n</table>\n<p>165 rows × 2 columns</p>\n</div>"
     },
     "execution_count": 3,
     "metadata": {},
     "output_type": "execute_result"
    }
   ],
   "source": [
    "import pandas as pd\n",
    "import datetime\n",
    "first_slice_time = datetime.time(9,0,0)\n",
    "trade_counts = trade_count_aggs.query('aggregate == \"TradeCount\"').groupby('symbol')[\"value\"].sum()\n",
    "quote_counts = trade_count_aggs.query('aggregate == \"QuoteCount\"').groupby('symbol')[\"value\"].sum()\n",
    "pd.DataFrame(trade_counts)\n",
    "\n",
    "pd.merge(trade_counts, quote_counts, on='symbol', how='outer').query('value_x == 0')\n"
   ],
   "metadata": {
    "collapsed": false,
    "ExecuteTime": {
     "end_time": "2024-02-24T18:43:05.698542606Z",
     "start_time": "2024-02-24T18:43:05.657228247Z"
    }
   },
   "id": "beeb59ee245e3054",
   "execution_count": 3
  },
  {
   "cell_type": "code",
   "execution_count": 9,
   "id": "41d488f1-34e1-4c88-9a8c-a5ca78645b74",
   "metadata": {
    "ExecuteTime": {
     "end_time": "2024-02-11T12:49:31.046458659Z",
     "start_time": "2024-02-11T12:49:31.003865214Z"
    }
   },
   "outputs": [
    {
     "data": {
      "text/plain": "Empty DataFrame\nColumns: [symbol, slice, aggregate, value]\nIndex: []",
      "text/html": "<div>\n<style scoped>\n    .dataframe tbody tr th:only-of-type {\n        vertical-align: middle;\n    }\n\n    .dataframe tbody tr th {\n        vertical-align: top;\n    }\n\n    .dataframe thead th {\n        text-align: right;\n    }\n</style>\n<table border=\"1\" class=\"dataframe\">\n  <thead>\n    <tr style=\"text-align: right;\">\n      <th></th>\n      <th>symbol</th>\n      <th>slice</th>\n      <th>aggregate</th>\n      <th>value</th>\n    </tr>\n  </thead>\n  <tbody>\n  </tbody>\n</table>\n</div>"
     },
     "execution_count": 9,
     "metadata": {},
     "output_type": "execute_result"
    }
   ],
   "source": [
    "import datetime\n",
    "time = datetime.time(15,50,00)\n",
    "aggs.query('slice == @time and value == 0')\n",
    "#aggs.query('symbol == \"PKO\"')"
   ]
  },
  {
   "cell_type": "code",
   "execution_count": 5,
   "id": "d7e44461",
   "metadata": {
    "ExecuteTime": {
     "end_time": "2024-02-24T18:43:53.776539400Z",
     "start_time": "2024-02-24T18:43:52.865266330Z"
    }
   },
   "outputs": [
    {
     "data": {
      "text/plain": "   symbol     slice aggregate     value\n0     PKO  09:00:00    volume       0.0\n1     PKO  09:05:00    volume  100989.0\n2     PKO  09:10:00    volume   16314.0\n3     PKO  09:15:00    volume  159776.0\n4     PKO  09:20:00    volume  113276.0\n..    ...       ...       ...       ...\n78    PKO  15:30:00    volume    9423.0\n79    PKO  15:35:00    volume   17653.0\n80    PKO  15:40:00    volume   16664.0\n81    PKO  15:45:00    volume   23848.0\n82    PKO  15:50:00    volume   10845.0\n\n[83 rows x 4 columns]",
      "text/html": "<div>\n<style scoped>\n    .dataframe tbody tr th:only-of-type {\n        vertical-align: middle;\n    }\n\n    .dataframe tbody tr th {\n        vertical-align: top;\n    }\n\n    .dataframe thead th {\n        text-align: right;\n    }\n</style>\n<table border=\"1\" class=\"dataframe\">\n  <thead>\n    <tr style=\"text-align: right;\">\n      <th></th>\n      <th>symbol</th>\n      <th>slice</th>\n      <th>aggregate</th>\n      <th>value</th>\n    </tr>\n  </thead>\n  <tbody>\n    <tr>\n      <th>0</th>\n      <td>PKO</td>\n      <td>09:00:00</td>\n      <td>volume</td>\n      <td>0.0</td>\n    </tr>\n    <tr>\n      <th>1</th>\n      <td>PKO</td>\n      <td>09:05:00</td>\n      <td>volume</td>\n      <td>100989.0</td>\n    </tr>\n    <tr>\n      <th>2</th>\n      <td>PKO</td>\n      <td>09:10:00</td>\n      <td>volume</td>\n      <td>16314.0</td>\n    </tr>\n    <tr>\n      <th>3</th>\n      <td>PKO</td>\n      <td>09:15:00</td>\n      <td>volume</td>\n      <td>159776.0</td>\n    </tr>\n    <tr>\n      <th>4</th>\n      <td>PKO</td>\n      <td>09:20:00</td>\n      <td>volume</td>\n      <td>113276.0</td>\n    </tr>\n    <tr>\n      <th>...</th>\n      <td>...</td>\n      <td>...</td>\n      <td>...</td>\n      <td>...</td>\n    </tr>\n    <tr>\n      <th>78</th>\n      <td>PKO</td>\n      <td>15:30:00</td>\n      <td>volume</td>\n      <td>9423.0</td>\n    </tr>\n    <tr>\n      <th>79</th>\n      <td>PKO</td>\n      <td>15:35:00</td>\n      <td>volume</td>\n      <td>17653.0</td>\n    </tr>\n    <tr>\n      <th>80</th>\n      <td>PKO</td>\n      <td>15:40:00</td>\n      <td>volume</td>\n      <td>16664.0</td>\n    </tr>\n    <tr>\n      <th>81</th>\n      <td>PKO</td>\n      <td>15:45:00</td>\n      <td>volume</td>\n      <td>23848.0</td>\n    </tr>\n    <tr>\n      <th>82</th>\n      <td>PKO</td>\n      <td>15:50:00</td>\n      <td>volume</td>\n      <td>10845.0</td>\n    </tr>\n  </tbody>\n</table>\n<p>83 rows × 4 columns</p>\n</div>"
     },
     "execution_count": 5,
     "metadata": {},
     "output_type": "execute_result"
    }
   ],
   "source": [
    "import sys\n",
    "import aggregator\n",
    "import filters\n",
    "\n",
    "\n",
    "class volumeAggregate(aggregator.Aggregate):\n",
    "    def __init__(self, region, symbol):\n",
    "        self.volume = 0\n",
    "\n",
    "    def on_quote(self, quote):\n",
    "        pass\n",
    "\n",
    "    def on_trade(self, trade):\n",
    "        self.volume += trade.trade_volume\n",
    "\n",
    "    def compute_slice(self, slice):\n",
    "        ret = self.volume\n",
    "        self.volume = 0\n",
    "        return ret\n",
    "\n",
    "\n",
    "agg = aggregator.Aggregator(WSE(), \"20240122\", filters.SymbolFilter('PKO'))\n",
    "agg.registerAggregate(volumeAggregate)\n",
    "agg.run()"
   ]
  },
  {
   "cell_type": "code",
   "execution_count": null,
   "id": "54bfbaae",
   "metadata": {},
   "outputs": [],
   "source": []
  },
  {
   "cell_type": "code",
   "execution_count": null,
   "id": "bdb1ff0b",
   "metadata": {},
   "outputs": [],
   "source": []
  }
 ],
 "metadata": {
  "kernelspec": {
   "display_name": "Python 3 (ipykernel)",
   "language": "python",
   "name": "python3"
  },
  "language_info": {
   "codemirror_mode": {
    "name": "ipython",
    "version": 3
   },
   "file_extension": ".py",
   "mimetype": "text/x-python",
   "name": "python",
   "nbconvert_exporter": "python",
   "pygments_lexer": "ipython3",
   "version": "3.12.2"
  }
 },
 "nbformat": 4,
 "nbformat_minor": 5
}
