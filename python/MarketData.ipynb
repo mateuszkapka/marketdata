{
 "cells": [
  {
   "cell_type": "code",
   "execution_count": 1,
   "id": "9df047bc",
   "metadata": {
    "ExecuteTime": {
     "end_time": "2024-02-11T12:16:29.771538533Z",
     "start_time": "2024-02-11T12:16:29.722587998Z"
    }
   },
   "outputs": [],
   "source": [
    "import os;\n",
    "import sys;\n",
    "sys.path.append(\"venv\")"
   ]
  },
  {
   "cell_type": "code",
   "outputs": [],
   "source": [],
   "metadata": {
    "collapsed": false
   },
   "id": "37d66d74990e5f3a"
  },
  {
   "cell_type": "code",
   "execution_count": 2,
   "id": "2e99082d",
   "metadata": {
    "ExecuteTime": {
     "end_time": "2024-02-11T12:16:33.340420912Z",
     "start_time": "2024-02-11T12:16:32.674669985Z"
    }
   },
   "outputs": [
    {
     "data": {
      "text/plain": "                 timestamp symbol  bid_price  bid_size  ask_price  ask_size  \\\n0      2024-01-22 05:04:15    NVA    18.0000     419.0     18.700     453.0   \n1      2024-01-22 05:04:15    BSA     0.2220    1800.0      0.243    2500.0   \n2      2024-01-22 05:04:15    NXG     2.6000     200.0      2.670     190.0   \n3      2024-01-22 05:04:15    DTX     0.1275    6724.0      0.140   16228.0   \n4      2024-01-22 05:04:15    PXM     4.0000    1100.0      4.020    1000.0   \n...                    ...    ...        ...       ...        ...       ...   \n645580 2024-01-22 17:05:00    ULG     9.9000     167.0      9.900     196.0   \n645581 2024-01-22 17:05:00    ALE    30.2450     500.0     30.245   10310.0   \n645582 2024-01-22 17:05:00    SVE     4.3200    1300.0      4.320     311.0   \n645583 2024-01-22 17:05:21    ACT        NaN       NaN        NaN       NaN   \n645584 2024-01-22 17:05:38    MIR        NaN       NaN        NaN       NaN   \n\n       market_period  trade_price  trade_volume   type  \n0                             NaN           NaN  Quote  \n1                             NaN           NaN  Quote  \n2                             NaN           NaN  Quote  \n3                             NaN           NaN  Quote  \n4                             NaN           NaN  Quote  \n...              ...          ...           ...    ...  \n645580          LAMO          NaN           NaN  Quote  \n645581          LAMO          NaN           NaN  Quote  \n645582          LAMO          NaN           NaN  Quote  \n645583          None         13.1       26500.0  Trade  \n645584          None          1.6      730000.0  Trade  \n\n[645585 rows x 10 columns]",
      "text/html": "<div>\n<style scoped>\n    .dataframe tbody tr th:only-of-type {\n        vertical-align: middle;\n    }\n\n    .dataframe tbody tr th {\n        vertical-align: top;\n    }\n\n    .dataframe thead th {\n        text-align: right;\n    }\n</style>\n<table border=\"1\" class=\"dataframe\">\n  <thead>\n    <tr style=\"text-align: right;\">\n      <th></th>\n      <th>timestamp</th>\n      <th>symbol</th>\n      <th>bid_price</th>\n      <th>bid_size</th>\n      <th>ask_price</th>\n      <th>ask_size</th>\n      <th>market_period</th>\n      <th>trade_price</th>\n      <th>trade_volume</th>\n      <th>type</th>\n    </tr>\n  </thead>\n  <tbody>\n    <tr>\n      <th>0</th>\n      <td>2024-01-22 05:04:15</td>\n      <td>NVA</td>\n      <td>18.0000</td>\n      <td>419.0</td>\n      <td>18.700</td>\n      <td>453.0</td>\n      <td></td>\n      <td>NaN</td>\n      <td>NaN</td>\n      <td>Quote</td>\n    </tr>\n    <tr>\n      <th>1</th>\n      <td>2024-01-22 05:04:15</td>\n      <td>BSA</td>\n      <td>0.2220</td>\n      <td>1800.0</td>\n      <td>0.243</td>\n      <td>2500.0</td>\n      <td></td>\n      <td>NaN</td>\n      <td>NaN</td>\n      <td>Quote</td>\n    </tr>\n    <tr>\n      <th>2</th>\n      <td>2024-01-22 05:04:15</td>\n      <td>NXG</td>\n      <td>2.6000</td>\n      <td>200.0</td>\n      <td>2.670</td>\n      <td>190.0</td>\n      <td></td>\n      <td>NaN</td>\n      <td>NaN</td>\n      <td>Quote</td>\n    </tr>\n    <tr>\n      <th>3</th>\n      <td>2024-01-22 05:04:15</td>\n      <td>DTX</td>\n      <td>0.1275</td>\n      <td>6724.0</td>\n      <td>0.140</td>\n      <td>16228.0</td>\n      <td></td>\n      <td>NaN</td>\n      <td>NaN</td>\n      <td>Quote</td>\n    </tr>\n    <tr>\n      <th>4</th>\n      <td>2024-01-22 05:04:15</td>\n      <td>PXM</td>\n      <td>4.0000</td>\n      <td>1100.0</td>\n      <td>4.020</td>\n      <td>1000.0</td>\n      <td></td>\n      <td>NaN</td>\n      <td>NaN</td>\n      <td>Quote</td>\n    </tr>\n    <tr>\n      <th>...</th>\n      <td>...</td>\n      <td>...</td>\n      <td>...</td>\n      <td>...</td>\n      <td>...</td>\n      <td>...</td>\n      <td>...</td>\n      <td>...</td>\n      <td>...</td>\n      <td>...</td>\n    </tr>\n    <tr>\n      <th>645580</th>\n      <td>2024-01-22 17:05:00</td>\n      <td>ULG</td>\n      <td>9.9000</td>\n      <td>167.0</td>\n      <td>9.900</td>\n      <td>196.0</td>\n      <td>LAMO</td>\n      <td>NaN</td>\n      <td>NaN</td>\n      <td>Quote</td>\n    </tr>\n    <tr>\n      <th>645581</th>\n      <td>2024-01-22 17:05:00</td>\n      <td>ALE</td>\n      <td>30.2450</td>\n      <td>500.0</td>\n      <td>30.245</td>\n      <td>10310.0</td>\n      <td>LAMO</td>\n      <td>NaN</td>\n      <td>NaN</td>\n      <td>Quote</td>\n    </tr>\n    <tr>\n      <th>645582</th>\n      <td>2024-01-22 17:05:00</td>\n      <td>SVE</td>\n      <td>4.3200</td>\n      <td>1300.0</td>\n      <td>4.320</td>\n      <td>311.0</td>\n      <td>LAMO</td>\n      <td>NaN</td>\n      <td>NaN</td>\n      <td>Quote</td>\n    </tr>\n    <tr>\n      <th>645583</th>\n      <td>2024-01-22 17:05:21</td>\n      <td>ACT</td>\n      <td>NaN</td>\n      <td>NaN</td>\n      <td>NaN</td>\n      <td>NaN</td>\n      <td>None</td>\n      <td>13.1</td>\n      <td>26500.0</td>\n      <td>Trade</td>\n    </tr>\n    <tr>\n      <th>645584</th>\n      <td>2024-01-22 17:05:38</td>\n      <td>MIR</td>\n      <td>NaN</td>\n      <td>NaN</td>\n      <td>NaN</td>\n      <td>NaN</td>\n      <td>None</td>\n      <td>1.6</td>\n      <td>730000.0</td>\n      <td>Trade</td>\n    </tr>\n  </tbody>\n</table>\n<p>645585 rows × 10 columns</p>\n</div>"
     },
     "execution_count": 2,
     "metadata": {},
     "output_type": "execute_result"
    }
   ],
   "source": [
    "import pandas as pd\n",
    "pd.read_parquet('../WSE_marketdata.parquet', engine='pyarrow')"
   ]
  },
  {
   "cell_type": "code",
   "outputs": [
    {
     "data": {
      "text/plain": "    symbol\n0      QNT\n1      SDG\n2      ENI\n3      EKS\n4      GIF\n..     ...\n782    CWA\n783    MDP\n784    ORG\n785    MFO\n786    AMV\n\n[787 rows x 1 columns]",
      "text/html": "<div>\n<style scoped>\n    .dataframe tbody tr th:only-of-type {\n        vertical-align: middle;\n    }\n\n    .dataframe tbody tr th {\n        vertical-align: top;\n    }\n\n    .dataframe thead th {\n        text-align: right;\n    }\n</style>\n<table border=\"1\" class=\"dataframe\">\n  <thead>\n    <tr style=\"text-align: right;\">\n      <th></th>\n      <th>symbol</th>\n    </tr>\n  </thead>\n  <tbody>\n    <tr>\n      <th>0</th>\n      <td>QNT</td>\n    </tr>\n    <tr>\n      <th>1</th>\n      <td>SDG</td>\n    </tr>\n    <tr>\n      <th>2</th>\n      <td>ENI</td>\n    </tr>\n    <tr>\n      <th>3</th>\n      <td>EKS</td>\n    </tr>\n    <tr>\n      <th>4</th>\n      <td>GIF</td>\n    </tr>\n    <tr>\n      <th>...</th>\n      <td>...</td>\n    </tr>\n    <tr>\n      <th>782</th>\n      <td>CWA</td>\n    </tr>\n    <tr>\n      <th>783</th>\n      <td>MDP</td>\n    </tr>\n    <tr>\n      <th>784</th>\n      <td>ORG</td>\n    </tr>\n    <tr>\n      <th>785</th>\n      <td>MFO</td>\n    </tr>\n    <tr>\n      <th>786</th>\n      <td>AMV</td>\n    </tr>\n  </tbody>\n</table>\n<p>787 rows × 1 columns</p>\n</div>"
     },
     "execution_count": 3,
     "metadata": {},
     "output_type": "execute_result"
    }
   ],
   "source": [
    "pd.read_parquet('../WSE_symbology.parquet', engine='pyarrow')"
   ],
   "metadata": {
    "collapsed": false,
    "ExecuteTime": {
     "end_time": "2024-02-11T12:18:08.398668209Z",
     "start_time": "2024-02-11T12:18:08.351885597Z"
    }
   },
   "id": "c647d11a7fb58412",
   "execution_count": 3
  },
  {
   "cell_type": "code",
   "execution_count": 11,
   "id": "50b8ea2e",
   "metadata": {
    "ExecuteTime": {
     "end_time": "2024-02-10T18:43:06.395042564Z",
     "start_time": "2024-02-10T18:43:06.350636637Z"
    }
   },
   "outputs": [
    {
     "data": {
      "text/html": [
       "<div>\n",
       "<style scoped>\n",
       "    .dataframe tbody tr th:only-of-type {\n",
       "        vertical-align: middle;\n",
       "    }\n",
       "\n",
       "    .dataframe tbody tr th {\n",
       "        vertical-align: top;\n",
       "    }\n",
       "\n",
       "    .dataframe thead th {\n",
       "        text-align: right;\n",
       "    }\n",
       "</style>\n",
       "<table border=\"1\" class=\"dataframe\">\n",
       "  <thead>\n",
       "    <tr style=\"text-align: right;\">\n",
       "      <th></th>\n",
       "      <th>symbol</th>\n",
       "      <th>slice</th>\n",
       "      <th>aggregate</th>\n",
       "      <th>value</th>\n",
       "    </tr>\n",
       "  </thead>\n",
       "  <tbody>\n",
       "    <tr>\n",
       "      <th>0</th>\n",
       "      <td>PKO</td>\n",
       "      <td>09:00:00</td>\n",
       "      <td>SpreadByTickSize</td>\n",
       "      <td>0.000000</td>\n",
       "    </tr>\n",
       "    <tr>\n",
       "      <th>1</th>\n",
       "      <td>PKO</td>\n",
       "      <td>09:05:00</td>\n",
       "      <td>SpreadByTickSize</td>\n",
       "      <td>574.009901</td>\n",
       "    </tr>\n",
       "    <tr>\n",
       "      <th>2</th>\n",
       "      <td>PKO</td>\n",
       "      <td>09:10:00</td>\n",
       "      <td>SpreadByTickSize</td>\n",
       "      <td>501.672862</td>\n",
       "    </tr>\n",
       "    <tr>\n",
       "      <th>3</th>\n",
       "      <td>PKO</td>\n",
       "      <td>09:15:00</td>\n",
       "      <td>SpreadByTickSize</td>\n",
       "      <td>404.755784</td>\n",
       "    </tr>\n",
       "    <tr>\n",
       "      <th>4</th>\n",
       "      <td>PKO</td>\n",
       "      <td>09:20:00</td>\n",
       "      <td>SpreadByTickSize</td>\n",
       "      <td>349.823633</td>\n",
       "    </tr>\n",
       "    <tr>\n",
       "      <th>...</th>\n",
       "      <td>...</td>\n",
       "      <td>...</td>\n",
       "      <td>...</td>\n",
       "      <td>...</td>\n",
       "    </tr>\n",
       "    <tr>\n",
       "      <th>78</th>\n",
       "      <td>PKO</td>\n",
       "      <td>15:30:00</td>\n",
       "      <td>SpreadByTickSize</td>\n",
       "      <td>115.494986</td>\n",
       "    </tr>\n",
       "    <tr>\n",
       "      <th>79</th>\n",
       "      <td>PKO</td>\n",
       "      <td>15:35:00</td>\n",
       "      <td>SpreadByTickSize</td>\n",
       "      <td>115.273958</td>\n",
       "    </tr>\n",
       "    <tr>\n",
       "      <th>80</th>\n",
       "      <td>PKO</td>\n",
       "      <td>15:40:00</td>\n",
       "      <td>SpreadByTickSize</td>\n",
       "      <td>115.050833</td>\n",
       "    </tr>\n",
       "    <tr>\n",
       "      <th>81</th>\n",
       "      <td>PKO</td>\n",
       "      <td>15:45:00</td>\n",
       "      <td>SpreadByTickSize</td>\n",
       "      <td>114.649086</td>\n",
       "    </tr>\n",
       "    <tr>\n",
       "      <th>82</th>\n",
       "      <td>PKO</td>\n",
       "      <td>15:50:00</td>\n",
       "      <td>SpreadByTickSize</td>\n",
       "      <td>114.547425</td>\n",
       "    </tr>\n",
       "  </tbody>\n",
       "</table>\n",
       "<p>83 rows × 4 columns</p>\n",
       "</div>"
      ],
      "text/plain": [
       "   symbol     slice         aggregate       value\n",
       "0     PKO  09:00:00  SpreadByTickSize    0.000000\n",
       "1     PKO  09:05:00  SpreadByTickSize  574.009901\n",
       "2     PKO  09:10:00  SpreadByTickSize  501.672862\n",
       "3     PKO  09:15:00  SpreadByTickSize  404.755784\n",
       "4     PKO  09:20:00  SpreadByTickSize  349.823633\n",
       "..    ...       ...               ...         ...\n",
       "78    PKO  15:30:00  SpreadByTickSize  115.494986\n",
       "79    PKO  15:35:00  SpreadByTickSize  115.273958\n",
       "80    PKO  15:40:00  SpreadByTickSize  115.050833\n",
       "81    PKO  15:45:00  SpreadByTickSize  114.649086\n",
       "82    PKO  15:50:00  SpreadByTickSize  114.547425\n",
       "\n",
       "[83 rows x 4 columns]"
      ]
     },
     "execution_count": 11,
     "metadata": {},
     "output_type": "execute_result"
    }
   ],
   "source": [
    "from regionConfig.WSE import WSE\n",
    "# Spread sizes\n",
    "\n",
    "import aggregator\n",
    "import filters\n",
    "\n",
    "\n",
    "class SpreadByTickSizeAggregate(aggregator.Aggregate):\n",
    "    def __init__(self, region):\n",
    "        self.last_bid = 0.0\n",
    "        self.last_ask = 0.0\n",
    "        self.region = region\n",
    "        self.tick_series = []\n",
    "\n",
    "    def on_quote(self, quote):\n",
    "        self.spread = quote.ask_price - quote.bid_price\n",
    "\n",
    "    def on_trade(self, trade):\n",
    "        tick_size = self.region.get_tick_size(trade.trade_price, trade.symbol)\n",
    "        if tick_size != 0:\n",
    "            self.tick_series.append(self.spread / tick_size)\n",
    "\n",
    "    def compute_slice(self, slice):\n",
    "        if len(self.tick_series) == 0:\n",
    "            return 0\n",
    "\n",
    "        value = sum(self.tick_series) / len(self.tick_series)\n",
    "        return value\n",
    "\n",
    "\n",
    "\n",
    "agg = aggregator.Aggregator(\"../WSE_marketdata.parquet\",\"../WSE_symbology.parquet\", WSE(),filters.SymbolFilter('PKO'))\n",
    "agg.registerAggregate(SpreadByTickSizeAggregate)\n",
    "aggs = agg.run()\n",
    "aggs"
   ]
  },
  {
   "cell_type": "code",
   "execution_count": 12,
   "id": "41d488f1-34e1-4c88-9a8c-a5ca78645b74",
   "metadata": {},
   "outputs": [
    {
     "data": {
      "text/html": [
       "<div>\n",
       "<style scoped>\n",
       "    .dataframe tbody tr th:only-of-type {\n",
       "        vertical-align: middle;\n",
       "    }\n",
       "\n",
       "    .dataframe tbody tr th {\n",
       "        vertical-align: top;\n",
       "    }\n",
       "\n",
       "    .dataframe thead th {\n",
       "        text-align: right;\n",
       "    }\n",
       "</style>\n",
       "<table border=\"1\" class=\"dataframe\">\n",
       "  <thead>\n",
       "    <tr style=\"text-align: right;\">\n",
       "      <th></th>\n",
       "      <th>symbol</th>\n",
       "      <th>slice</th>\n",
       "      <th>aggregate</th>\n",
       "      <th>value</th>\n",
       "    </tr>\n",
       "  </thead>\n",
       "  <tbody>\n",
       "    <tr>\n",
       "      <th>82</th>\n",
       "      <td>PKO</td>\n",
       "      <td>15:50:00</td>\n",
       "      <td>SpreadByTickSize</td>\n",
       "      <td>114.547425</td>\n",
       "    </tr>\n",
       "  </tbody>\n",
       "</table>\n",
       "</div>"
      ],
      "text/plain": [
       "   symbol     slice         aggregate       value\n",
       "82    PKO  15:50:00  SpreadByTickSize  114.547425"
      ]
     },
     "execution_count": 12,
     "metadata": {},
     "output_type": "execute_result"
    }
   ],
   "source": [
    "import datetime\n",
    "time = datetime.time(15,50,00)\n",
    "aggs.query('slice == @time')\n",
    "#aggs.query('symbol == \"PKO\"')"
   ]
  },
  {
   "cell_type": "code",
   "execution_count": 14,
   "id": "d7e44461",
   "metadata": {
    "ExecuteTime": {
     "end_time": "2024-02-09T15:43:45.169444446Z",
     "start_time": "2024-02-09T15:43:44.246886636Z"
    }
   },
   "outputs": [
    {
     "data": {
      "text/html": [
       "<div>\n",
       "<style scoped>\n",
       "    .dataframe tbody tr th:only-of-type {\n",
       "        vertical-align: middle;\n",
       "    }\n",
       "\n",
       "    .dataframe tbody tr th {\n",
       "        vertical-align: top;\n",
       "    }\n",
       "\n",
       "    .dataframe thead th {\n",
       "        text-align: right;\n",
       "    }\n",
       "</style>\n",
       "<table border=\"1\" class=\"dataframe\">\n",
       "  <thead>\n",
       "    <tr style=\"text-align: right;\">\n",
       "      <th></th>\n",
       "      <th>symbol</th>\n",
       "      <th>slice</th>\n",
       "      <th>aggregate</th>\n",
       "      <th>value</th>\n",
       "    </tr>\n",
       "  </thead>\n",
       "  <tbody>\n",
       "  </tbody>\n",
       "</table>\n",
       "</div>"
      ],
      "text/plain": [
       "Empty DataFrame\n",
       "Columns: [symbol, slice, aggregate, value]\n",
       "Index: []"
      ]
     },
     "execution_count": 14,
     "metadata": {},
     "output_type": "execute_result"
    }
   ],
   "source": [
    "import sys\n",
    "import aggregator\n",
    "import filters\n",
    "\n",
    "\n",
    "class volumeAggregate(aggregator.Aggregate):\n",
    "    def __init__(self):\n",
    "        self.volume = 0\n",
    "\n",
    "    def on_quote(self, quote):\n",
    "        pass\n",
    "\n",
    "    def on_trade(self, trade):\n",
    "        self.volume += trade.trade_volume\n",
    "\n",
    "    def compute_slice(self, slice):\n",
    "        ret = self.volume\n",
    "        self.volume = 0\n",
    "        return ret\n",
    "\n",
    "\n",
    "agg = aggregator.Aggregator(\"../WSE_marketdata.parquet\",\"../WSE_symbology.parquet\", filters.SymbolFilter('PKO'))\n",
    "agg.registerAggregate(volumeAggregate)\n",
    "agg.run()"
   ]
  },
  {
   "cell_type": "code",
   "execution_count": null,
   "id": "54bfbaae",
   "metadata": {},
   "outputs": [],
   "source": []
  },
  {
   "cell_type": "code",
   "execution_count": null,
   "id": "bdb1ff0b",
   "metadata": {},
   "outputs": [],
   "source": []
  }
 ],
 "metadata": {
  "kernelspec": {
   "display_name": "Python 3 (ipykernel)",
   "language": "python",
   "name": "python3"
  },
  "language_info": {
   "codemirror_mode": {
    "name": "ipython",
    "version": 3
   },
   "file_extension": ".py",
   "mimetype": "text/x-python",
   "name": "python",
   "nbconvert_exporter": "python",
   "pygments_lexer": "ipython3",
   "version": "3.12.2"
  }
 },
 "nbformat": 4,
 "nbformat_minor": 5
}
