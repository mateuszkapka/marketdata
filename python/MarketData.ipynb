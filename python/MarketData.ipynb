{
 "cells": [
  {
   "cell_type": "code",
   "execution_count": 1,
   "id": "9df047bc",
   "metadata": {
    "ExecuteTime": {
     "end_time": "2024-02-09T15:28:09.614141781Z",
     "start_time": "2024-02-09T15:28:09.607419778Z"
    }
   },
   "outputs": [],
   "source": [
    "import os;\n",
    "import sys;\n",
    "sys.path.append(\"venv\")"
   ]
  },
  {
   "cell_type": "code",
   "execution_count": 7,
   "id": "2e99082d",
   "metadata": {
    "ExecuteTime": {
     "end_time": "2024-02-09T15:29:41.858666166Z",
     "start_time": "2024-02-09T15:29:41.785583813Z"
    }
   },
   "outputs": [
    {
     "data": {
      "text/plain": "                 timestamp symbol  bid_price  bid_size  ask_price  ask_size  \\\n0      2024-01-22 05:04:15    SIM       2.78     276.0      2.850     600.0   \n1      2024-01-22 08:30:30    SIM       2.79    1000.0      2.850     600.0   \n2      2024-01-22 09:01:02    SIM       2.79    1000.0      2.820      36.0   \n3      2024-01-22 09:40:30    SIM       2.79    1000.0      2.820      31.0   \n4      2024-01-22 09:40:30    SIM        NaN       NaN        NaN       NaN   \n...                    ...    ...        ...       ...        ...       ...   \n645580 2024-01-22 16:36:15    RES       0.57    1000.0      0.598    5000.0   \n645581 2024-01-22 16:36:15    RES        NaN       NaN        NaN       NaN   \n645582 2024-01-22 16:37:38    RES       0.57    1000.0      0.592    1300.0   \n645583 2024-01-22 16:43:08    RES       0.57    1000.0      0.590    4500.0   \n645584 2024-01-22 17:04:00    RES       0.57    1000.0      0.600   10231.0   \n\n       market_period  trade_price  trade_volume   type  \n0                             NaN           NaN  Quote  \n1               COCA          NaN           NaN  Quote  \n2               COCO          NaN           NaN  Quote  \n3               COCO          NaN           NaN  Quote  \n4               None         2.82           5.0  Trade  \n...              ...          ...           ...    ...  \n645580          COCO          NaN           NaN  Quote  \n645581          None         0.59        4500.0  Trade  \n645582          COCO          NaN           NaN  Quote  \n645583          COCO          NaN           NaN  Quote  \n645584          LTAL          NaN           NaN  Quote  \n\n[645585 rows x 10 columns]",
      "text/html": "<div>\n<style scoped>\n    .dataframe tbody tr th:only-of-type {\n        vertical-align: middle;\n    }\n\n    .dataframe tbody tr th {\n        vertical-align: top;\n    }\n\n    .dataframe thead th {\n        text-align: right;\n    }\n</style>\n<table border=\"1\" class=\"dataframe\">\n  <thead>\n    <tr style=\"text-align: right;\">\n      <th></th>\n      <th>timestamp</th>\n      <th>symbol</th>\n      <th>bid_price</th>\n      <th>bid_size</th>\n      <th>ask_price</th>\n      <th>ask_size</th>\n      <th>market_period</th>\n      <th>trade_price</th>\n      <th>trade_volume</th>\n      <th>type</th>\n    </tr>\n  </thead>\n  <tbody>\n    <tr>\n      <th>0</th>\n      <td>2024-01-22 05:04:15</td>\n      <td>SIM</td>\n      <td>2.78</td>\n      <td>276.0</td>\n      <td>2.850</td>\n      <td>600.0</td>\n      <td></td>\n      <td>NaN</td>\n      <td>NaN</td>\n      <td>Quote</td>\n    </tr>\n    <tr>\n      <th>1</th>\n      <td>2024-01-22 08:30:30</td>\n      <td>SIM</td>\n      <td>2.79</td>\n      <td>1000.0</td>\n      <td>2.850</td>\n      <td>600.0</td>\n      <td>COCA</td>\n      <td>NaN</td>\n      <td>NaN</td>\n      <td>Quote</td>\n    </tr>\n    <tr>\n      <th>2</th>\n      <td>2024-01-22 09:01:02</td>\n      <td>SIM</td>\n      <td>2.79</td>\n      <td>1000.0</td>\n      <td>2.820</td>\n      <td>36.0</td>\n      <td>COCO</td>\n      <td>NaN</td>\n      <td>NaN</td>\n      <td>Quote</td>\n    </tr>\n    <tr>\n      <th>3</th>\n      <td>2024-01-22 09:40:30</td>\n      <td>SIM</td>\n      <td>2.79</td>\n      <td>1000.0</td>\n      <td>2.820</td>\n      <td>31.0</td>\n      <td>COCO</td>\n      <td>NaN</td>\n      <td>NaN</td>\n      <td>Quote</td>\n    </tr>\n    <tr>\n      <th>4</th>\n      <td>2024-01-22 09:40:30</td>\n      <td>SIM</td>\n      <td>NaN</td>\n      <td>NaN</td>\n      <td>NaN</td>\n      <td>NaN</td>\n      <td>None</td>\n      <td>2.82</td>\n      <td>5.0</td>\n      <td>Trade</td>\n    </tr>\n    <tr>\n      <th>...</th>\n      <td>...</td>\n      <td>...</td>\n      <td>...</td>\n      <td>...</td>\n      <td>...</td>\n      <td>...</td>\n      <td>...</td>\n      <td>...</td>\n      <td>...</td>\n      <td>...</td>\n    </tr>\n    <tr>\n      <th>645580</th>\n      <td>2024-01-22 16:36:15</td>\n      <td>RES</td>\n      <td>0.57</td>\n      <td>1000.0</td>\n      <td>0.598</td>\n      <td>5000.0</td>\n      <td>COCO</td>\n      <td>NaN</td>\n      <td>NaN</td>\n      <td>Quote</td>\n    </tr>\n    <tr>\n      <th>645581</th>\n      <td>2024-01-22 16:36:15</td>\n      <td>RES</td>\n      <td>NaN</td>\n      <td>NaN</td>\n      <td>NaN</td>\n      <td>NaN</td>\n      <td>None</td>\n      <td>0.59</td>\n      <td>4500.0</td>\n      <td>Trade</td>\n    </tr>\n    <tr>\n      <th>645582</th>\n      <td>2024-01-22 16:37:38</td>\n      <td>RES</td>\n      <td>0.57</td>\n      <td>1000.0</td>\n      <td>0.592</td>\n      <td>1300.0</td>\n      <td>COCO</td>\n      <td>NaN</td>\n      <td>NaN</td>\n      <td>Quote</td>\n    </tr>\n    <tr>\n      <th>645583</th>\n      <td>2024-01-22 16:43:08</td>\n      <td>RES</td>\n      <td>0.57</td>\n      <td>1000.0</td>\n      <td>0.590</td>\n      <td>4500.0</td>\n      <td>COCO</td>\n      <td>NaN</td>\n      <td>NaN</td>\n      <td>Quote</td>\n    </tr>\n    <tr>\n      <th>645584</th>\n      <td>2024-01-22 17:04:00</td>\n      <td>RES</td>\n      <td>0.57</td>\n      <td>1000.0</td>\n      <td>0.600</td>\n      <td>10231.0</td>\n      <td>LTAL</td>\n      <td>NaN</td>\n      <td>NaN</td>\n      <td>Quote</td>\n    </tr>\n  </tbody>\n</table>\n<p>645585 rows × 10 columns</p>\n</div>"
     },
     "execution_count": 7,
     "metadata": {},
     "output_type": "execute_result"
    }
   ],
   "source": [
    "import pandas as pd\n",
    "pd.read_parquet('../WSE_marketdata.parquet', engine='pyarrow')"
   ]
  },
  {
   "cell_type": "code",
   "execution_count": 10,
   "id": "50b8ea2e",
   "metadata": {
    "ExecuteTime": {
     "end_time": "2024-02-09T15:40:35.964757538Z",
     "start_time": "2024-02-09T15:40:35.958907601Z"
    }
   },
   "outputs": [
    {
     "data": {
      "text/plain": "['Aggregate',\n 'Aggregator',\n 'Filter',\n 'NamedTuple',\n 'NoopFilter',\n 'Quote',\n 'Trade',\n 'Type',\n 'WallClockSliceSchedule',\n '__builtins__',\n '__cached__',\n '__doc__',\n '__file__',\n '__loader__',\n '__name__',\n '__package__',\n '__spec__',\n 'abstractmethod',\n 'namedtuple',\n 'pd',\n 'time',\n 'timedelta']"
     },
     "execution_count": 10,
     "metadata": {},
     "output_type": "execute_result"
    }
   ],
   "source": [
    "\n",
    "\n",
    "dir(aggregator)"
   ]
  },
  {
   "cell_type": "code",
   "execution_count": 11,
   "id": "d7e44461",
   "metadata": {
    "ExecuteTime": {
     "end_time": "2024-02-09T15:43:45.169444446Z",
     "start_time": "2024-02-09T15:43:44.246886636Z"
    }
   },
   "outputs": [
    {
     "data": {
      "text/plain": "['__class__',\n '__delattr__',\n '__dict__',\n '__dir__',\n '__doc__',\n '__eq__',\n '__format__',\n '__ge__',\n '__getattribute__',\n '__gt__',\n '__hash__',\n '__init__',\n '__init_subclass__',\n '__le__',\n '__lt__',\n '__module__',\n '__ne__',\n '__new__',\n '__reduce__',\n '__reduce_ex__',\n '__repr__',\n '__setattr__',\n '__sizeof__',\n '__str__',\n '__subclasshook__',\n '__weakref__',\n 'aggregate_values',\n 'aggregates',\n 'aggs_to_dataframe',\n 'filter',\n 'market_data_path',\n 'on_slice_triggered',\n 'readSymbology',\n 'registerAggregate',\n 'run',\n 'slice_schedule',\n 'symbology']"
     },
     "execution_count": 11,
     "metadata": {},
     "output_type": "execute_result"
    }
   ],
   "source": [
    "import sys\n",
    "import aggregator\n",
    "import filters\n",
    "\n",
    "\n",
    "class volumeAggregate(aggregator.Aggregate):\n",
    "    def __init__(self):\n",
    "        self.volume = 0\n",
    "\n",
    "    def on_quote(self, quote):\n",
    "        pass\n",
    "\n",
    "    def on_trade(self, trade):\n",
    "        self.volume += trade.trade_volume\n",
    "\n",
    "    def compute_slice(self, slice):\n",
    "        ret = self.volume\n",
    "        self.volume = 0\n",
    "        return ret\n",
    "\n",
    "\n",
    "agg = aggregator.Aggregator(\"../WSE_marketdata.parquet\",\"../WSE_symbology.parquet\", filters.SymbolFilter('PKO'))\n",
    "agg.registerAggregate(volumeAggregate)\n",
    "agg.run()\n",
    "dir(agg)"
   ]
  },
  {
   "cell_type": "code",
   "execution_count": null,
   "id": "54bfbaae",
   "metadata": {},
   "outputs": [],
   "source": []
  },
  {
   "cell_type": "code",
   "execution_count": null,
   "id": "bdb1ff0b",
   "metadata": {},
   "outputs": [],
   "source": []
  }
 ],
 "metadata": {
  "kernelspec": {
   "display_name": "Python 3 (ipykernel)",
   "language": "python",
   "name": "python3"
  },
  "language_info": {
   "codemirror_mode": {
    "name": "ipython",
    "version": 3
   },
   "file_extension": ".py",
   "mimetype": "text/x-python",
   "name": "python",
   "nbconvert_exporter": "python",
   "pygments_lexer": "ipython3",
   "version": "3.11.5"
  }
 },
 "nbformat": 4,
 "nbformat_minor": 5
}
