{
 "cells": [
  {
   "cell_type": "code",
   "execution_count": 1,
   "id": "9df047bc",
   "metadata": {
    "ExecuteTime": {
     "end_time": "2024-02-11T12:16:29.771538533Z",
     "start_time": "2024-02-11T12:16:29.722587998Z"
    }
   },
   "outputs": [],
   "source": [
    "import os;\n",
    "import sys;\n",
    "sys.path.append(\"venv\")"
   ]
  },
  {
   "cell_type": "code",
   "execution_count": null,
   "id": "37d66d74990e5f3a",
   "metadata": {
    "collapsed": false
   },
   "outputs": [],
   "source": []
  },
  {
   "cell_type": "code",
   "execution_count": 2,
   "id": "2e99082d",
   "metadata": {
    "ExecuteTime": {
     "end_time": "2024-02-11T12:16:33.340420912Z",
     "start_time": "2024-02-11T12:16:32.674669985Z"
    }
   },
   "outputs": [
    {
     "data": {
      "text/html": [
       "<div>\n",
       "<style scoped>\n",
       "    .dataframe tbody tr th:only-of-type {\n",
       "        vertical-align: middle;\n",
       "    }\n",
       "\n",
       "    .dataframe tbody tr th {\n",
       "        vertical-align: top;\n",
       "    }\n",
       "\n",
       "    .dataframe thead th {\n",
       "        text-align: right;\n",
       "    }\n",
       "</style>\n",
       "<table border=\"1\" class=\"dataframe\">\n",
       "  <thead>\n",
       "    <tr style=\"text-align: right;\">\n",
       "      <th></th>\n",
       "      <th>timestamp</th>\n",
       "      <th>symbol</th>\n",
       "      <th>bid_price</th>\n",
       "      <th>bid_size</th>\n",
       "      <th>ask_price</th>\n",
       "      <th>ask_size</th>\n",
       "      <th>market_period</th>\n",
       "      <th>trade_price</th>\n",
       "      <th>trade_volume</th>\n",
       "      <th>type</th>\n",
       "    </tr>\n",
       "  </thead>\n",
       "  <tbody>\n",
       "    <tr>\n",
       "      <th>0</th>\n",
       "      <td>2024-01-22 05:04:15</td>\n",
       "      <td>NVA</td>\n",
       "      <td>18.0000</td>\n",
       "      <td>419.0</td>\n",
       "      <td>18.700</td>\n",
       "      <td>453.0</td>\n",
       "      <td></td>\n",
       "      <td>NaN</td>\n",
       "      <td>NaN</td>\n",
       "      <td>Quote</td>\n",
       "    </tr>\n",
       "    <tr>\n",
       "      <th>1</th>\n",
       "      <td>2024-01-22 05:04:15</td>\n",
       "      <td>BSA</td>\n",
       "      <td>0.2220</td>\n",
       "      <td>1800.0</td>\n",
       "      <td>0.243</td>\n",
       "      <td>2500.0</td>\n",
       "      <td></td>\n",
       "      <td>NaN</td>\n",
       "      <td>NaN</td>\n",
       "      <td>Quote</td>\n",
       "    </tr>\n",
       "    <tr>\n",
       "      <th>2</th>\n",
       "      <td>2024-01-22 05:04:15</td>\n",
       "      <td>NXG</td>\n",
       "      <td>2.6000</td>\n",
       "      <td>200.0</td>\n",
       "      <td>2.670</td>\n",
       "      <td>190.0</td>\n",
       "      <td></td>\n",
       "      <td>NaN</td>\n",
       "      <td>NaN</td>\n",
       "      <td>Quote</td>\n",
       "    </tr>\n",
       "    <tr>\n",
       "      <th>3</th>\n",
       "      <td>2024-01-22 05:04:15</td>\n",
       "      <td>DTX</td>\n",
       "      <td>0.1275</td>\n",
       "      <td>6724.0</td>\n",
       "      <td>0.140</td>\n",
       "      <td>16228.0</td>\n",
       "      <td></td>\n",
       "      <td>NaN</td>\n",
       "      <td>NaN</td>\n",
       "      <td>Quote</td>\n",
       "    </tr>\n",
       "    <tr>\n",
       "      <th>4</th>\n",
       "      <td>2024-01-22 05:04:15</td>\n",
       "      <td>PXM</td>\n",
       "      <td>4.0000</td>\n",
       "      <td>1100.0</td>\n",
       "      <td>4.020</td>\n",
       "      <td>1000.0</td>\n",
       "      <td></td>\n",
       "      <td>NaN</td>\n",
       "      <td>NaN</td>\n",
       "      <td>Quote</td>\n",
       "    </tr>\n",
       "    <tr>\n",
       "      <th>...</th>\n",
       "      <td>...</td>\n",
       "      <td>...</td>\n",
       "      <td>...</td>\n",
       "      <td>...</td>\n",
       "      <td>...</td>\n",
       "      <td>...</td>\n",
       "      <td>...</td>\n",
       "      <td>...</td>\n",
       "      <td>...</td>\n",
       "      <td>...</td>\n",
       "    </tr>\n",
       "    <tr>\n",
       "      <th>645580</th>\n",
       "      <td>2024-01-22 17:05:00</td>\n",
       "      <td>ULG</td>\n",
       "      <td>9.9000</td>\n",
       "      <td>167.0</td>\n",
       "      <td>9.900</td>\n",
       "      <td>196.0</td>\n",
       "      <td>LAMO</td>\n",
       "      <td>NaN</td>\n",
       "      <td>NaN</td>\n",
       "      <td>Quote</td>\n",
       "    </tr>\n",
       "    <tr>\n",
       "      <th>645581</th>\n",
       "      <td>2024-01-22 17:05:00</td>\n",
       "      <td>ALE</td>\n",
       "      <td>30.2450</td>\n",
       "      <td>500.0</td>\n",
       "      <td>30.245</td>\n",
       "      <td>10310.0</td>\n",
       "      <td>LAMO</td>\n",
       "      <td>NaN</td>\n",
       "      <td>NaN</td>\n",
       "      <td>Quote</td>\n",
       "    </tr>\n",
       "    <tr>\n",
       "      <th>645582</th>\n",
       "      <td>2024-01-22 17:05:00</td>\n",
       "      <td>SVE</td>\n",
       "      <td>4.3200</td>\n",
       "      <td>1300.0</td>\n",
       "      <td>4.320</td>\n",
       "      <td>311.0</td>\n",
       "      <td>LAMO</td>\n",
       "      <td>NaN</td>\n",
       "      <td>NaN</td>\n",
       "      <td>Quote</td>\n",
       "    </tr>\n",
       "    <tr>\n",
       "      <th>645583</th>\n",
       "      <td>2024-01-22 17:05:21</td>\n",
       "      <td>ACT</td>\n",
       "      <td>NaN</td>\n",
       "      <td>NaN</td>\n",
       "      <td>NaN</td>\n",
       "      <td>NaN</td>\n",
       "      <td>None</td>\n",
       "      <td>13.1</td>\n",
       "      <td>26500.0</td>\n",
       "      <td>Trade</td>\n",
       "    </tr>\n",
       "    <tr>\n",
       "      <th>645584</th>\n",
       "      <td>2024-01-22 17:05:38</td>\n",
       "      <td>MIR</td>\n",
       "      <td>NaN</td>\n",
       "      <td>NaN</td>\n",
       "      <td>NaN</td>\n",
       "      <td>NaN</td>\n",
       "      <td>None</td>\n",
       "      <td>1.6</td>\n",
       "      <td>730000.0</td>\n",
       "      <td>Trade</td>\n",
       "    </tr>\n",
       "  </tbody>\n",
       "</table>\n",
       "<p>645585 rows × 10 columns</p>\n",
       "</div>"
      ],
      "text/plain": [
       "                 timestamp symbol  bid_price  bid_size  ask_price  ask_size  \\\n",
       "0      2024-01-22 05:04:15    NVA    18.0000     419.0     18.700     453.0   \n",
       "1      2024-01-22 05:04:15    BSA     0.2220    1800.0      0.243    2500.0   \n",
       "2      2024-01-22 05:04:15    NXG     2.6000     200.0      2.670     190.0   \n",
       "3      2024-01-22 05:04:15    DTX     0.1275    6724.0      0.140   16228.0   \n",
       "4      2024-01-22 05:04:15    PXM     4.0000    1100.0      4.020    1000.0   \n",
       "...                    ...    ...        ...       ...        ...       ...   \n",
       "645580 2024-01-22 17:05:00    ULG     9.9000     167.0      9.900     196.0   \n",
       "645581 2024-01-22 17:05:00    ALE    30.2450     500.0     30.245   10310.0   \n",
       "645582 2024-01-22 17:05:00    SVE     4.3200    1300.0      4.320     311.0   \n",
       "645583 2024-01-22 17:05:21    ACT        NaN       NaN        NaN       NaN   \n",
       "645584 2024-01-22 17:05:38    MIR        NaN       NaN        NaN       NaN   \n",
       "\n",
       "       market_period  trade_price  trade_volume   type  \n",
       "0                             NaN           NaN  Quote  \n",
       "1                             NaN           NaN  Quote  \n",
       "2                             NaN           NaN  Quote  \n",
       "3                             NaN           NaN  Quote  \n",
       "4                             NaN           NaN  Quote  \n",
       "...              ...          ...           ...    ...  \n",
       "645580          LAMO          NaN           NaN  Quote  \n",
       "645581          LAMO          NaN           NaN  Quote  \n",
       "645582          LAMO          NaN           NaN  Quote  \n",
       "645583          None         13.1       26500.0  Trade  \n",
       "645584          None          1.6      730000.0  Trade  \n",
       "\n",
       "[645585 rows x 10 columns]"
      ]
     },
     "execution_count": 2,
     "metadata": {},
     "output_type": "execute_result"
    }
   ],
   "source": [
    "import pandas as pd\n",
    "pd.read_parquet('../WSE_marketdata.parquet', engine='pyarrow')"
   ]
  },
  {
   "cell_type": "code",
   "execution_count": 3,
   "id": "c647d11a7fb58412",
   "metadata": {
    "ExecuteTime": {
     "end_time": "2024-02-11T12:18:08.398668209Z",
     "start_time": "2024-02-11T12:18:08.351885597Z"
    },
    "collapsed": false
   },
   "outputs": [
    {
     "data": {
      "text/html": [
       "<div>\n",
       "<style scoped>\n",
       "    .dataframe tbody tr th:only-of-type {\n",
       "        vertical-align: middle;\n",
       "    }\n",
       "\n",
       "    .dataframe tbody tr th {\n",
       "        vertical-align: top;\n",
       "    }\n",
       "\n",
       "    .dataframe thead th {\n",
       "        text-align: right;\n",
       "    }\n",
       "</style>\n",
       "<table border=\"1\" class=\"dataframe\">\n",
       "  <thead>\n",
       "    <tr style=\"text-align: right;\">\n",
       "      <th></th>\n",
       "      <th>symbol</th>\n",
       "    </tr>\n",
       "  </thead>\n",
       "  <tbody>\n",
       "    <tr>\n",
       "      <th>0</th>\n",
       "      <td>QNT</td>\n",
       "    </tr>\n",
       "    <tr>\n",
       "      <th>1</th>\n",
       "      <td>SDG</td>\n",
       "    </tr>\n",
       "    <tr>\n",
       "      <th>2</th>\n",
       "      <td>ENI</td>\n",
       "    </tr>\n",
       "    <tr>\n",
       "      <th>3</th>\n",
       "      <td>EKS</td>\n",
       "    </tr>\n",
       "    <tr>\n",
       "      <th>4</th>\n",
       "      <td>GIF</td>\n",
       "    </tr>\n",
       "    <tr>\n",
       "      <th>...</th>\n",
       "      <td>...</td>\n",
       "    </tr>\n",
       "    <tr>\n",
       "      <th>782</th>\n",
       "      <td>CWA</td>\n",
       "    </tr>\n",
       "    <tr>\n",
       "      <th>783</th>\n",
       "      <td>MDP</td>\n",
       "    </tr>\n",
       "    <tr>\n",
       "      <th>784</th>\n",
       "      <td>ORG</td>\n",
       "    </tr>\n",
       "    <tr>\n",
       "      <th>785</th>\n",
       "      <td>MFO</td>\n",
       "    </tr>\n",
       "    <tr>\n",
       "      <th>786</th>\n",
       "      <td>AMV</td>\n",
       "    </tr>\n",
       "  </tbody>\n",
       "</table>\n",
       "<p>787 rows × 1 columns</p>\n",
       "</div>"
      ],
      "text/plain": [
       "    symbol\n",
       "0      QNT\n",
       "1      SDG\n",
       "2      ENI\n",
       "3      EKS\n",
       "4      GIF\n",
       "..     ...\n",
       "782    CWA\n",
       "783    MDP\n",
       "784    ORG\n",
       "785    MFO\n",
       "786    AMV\n",
       "\n",
       "[787 rows x 1 columns]"
      ]
     },
     "execution_count": 3,
     "metadata": {},
     "output_type": "execute_result"
    }
   ],
   "source": [
    "pd.read_parquet('../WSE_symbology.parquet', engine='pyarrow')"
   ]
  },
  {
   "cell_type": "code",
   "execution_count": 11,
   "id": "50b8ea2e",
   "metadata": {
    "ExecuteTime": {
     "end_time": "2024-02-11T12:54:41.274514366Z",
     "start_time": "2024-02-11T12:54:36.602062967Z"
    }
   },
   "outputs": [
    {
     "data": {
      "text/plain": "  symbol     slice         aggregate  value\n0    DTR  09:00:00  SpreadByTickSize      0\n1    DTR  09:05:00  SpreadByTickSize      0",
      "text/html": "<div>\n<style scoped>\n    .dataframe tbody tr th:only-of-type {\n        vertical-align: middle;\n    }\n\n    .dataframe tbody tr th {\n        vertical-align: top;\n    }\n\n    .dataframe thead th {\n        text-align: right;\n    }\n</style>\n<table border=\"1\" class=\"dataframe\">\n  <thead>\n    <tr style=\"text-align: right;\">\n      <th></th>\n      <th>symbol</th>\n      <th>slice</th>\n      <th>aggregate</th>\n      <th>value</th>\n    </tr>\n  </thead>\n  <tbody>\n    <tr>\n      <th>0</th>\n      <td>DTR</td>\n      <td>09:00:00</td>\n      <td>SpreadByTickSize</td>\n      <td>0</td>\n    </tr>\n    <tr>\n      <th>1</th>\n      <td>DTR</td>\n      <td>09:05:00</td>\n      <td>SpreadByTickSize</td>\n      <td>0</td>\n    </tr>\n  </tbody>\n</table>\n</div>"
     },
     "execution_count": 11,
     "metadata": {},
     "output_type": "execute_result"
    }
   ],
   "source": [
    "from regionConfig.WSE import WSE\n",
    "# Spread sizes\n",
    "\n",
    "import aggregator\n",
    "import filters\n",
    "\n",
    "\n",
    "class SpreadByTickSizeAggregate(aggregator.Aggregate):\n",
    "    def __init__(self, region, symbol):\n",
    "        self.last_bid = 0.0\n",
    "        self.last_ask = 0.0\n",
    "        self.region = region\n",
    "        self.tick_series = []\n",
    "\n",
    "    def on_quote(self, quote):\n",
    "        self.spread = quote.ask_price - quote.bid_price\n",
    "\n",
    "    def on_trade(self, trade):\n",
    "        tick_size = self.region.get_tick_size(trade.trade_price, trade.symbol)\n",
    "        if tick_size != 0:\n",
    "            self.tick_series.append(self.spread / tick_size)\n",
    "\n",
    "    def compute_slice(self, slice):\n",
    "        if len(self.tick_series) == 0:\n",
    "            return 0\n",
    "\n",
    "        value = sum(self.tick_series) / len(self.tick_series)\n",
    "        return value\n",
    "\n",
    "\n",
    "\n",
    "agg = aggregator.Aggregator(\"../WSE_marketdata.parquet\",\"../WSE_symbology.parquet\", WSE(), filters.SymbolFilter(\"DTR\"))\n",
    "agg.registerAggregate(SpreadByTickSizeAggregate)\n",
    "aggs = agg.run()\n",
    "aggs"
   ]
  },
  {
   "cell_type": "code",
   "outputs": [],
   "source": [
    "from regionConfig.WSE import WSE\n",
    "# Spread sizes\n",
    "\n",
    "import aggregator\n",
    "import filters\n",
    "\n",
    "class TradeCountAggregate(aggregator.Aggregate):\n",
    "    def __init__(self, region, symbol):\n",
    "        self.trade_count = 0\n",
    "\n",
    "    def on_quote(self, quote):\n",
    "        pass\n",
    "\n",
    "    def on_trade(self, trade):\n",
    "        self.trade_count+=1\n",
    "\n",
    "    def compute_slice(self, slice):\n",
    "        val = self.trade_count\n",
    "        self.trade_count = 0 \n",
    "        return val\n",
    "\n",
    "agg = aggregator.Aggregator(\"../WSE_marketdata.parquet\",\"../WSE_symbology.parquet\", WSE())\n",
    "agg.registerAggregate(TradeCountAggregate)\n",
    "trade_count_aggs = agg.run()"
   ],
   "metadata": {
    "collapsed": false,
    "ExecuteTime": {
     "end_time": "2024-02-11T12:58:23.041251458Z",
     "start_time": "2024-02-11T12:58:21.631822733Z"
    }
   },
   "id": "5f40f7c6fc2fbf33",
   "execution_count": 13
  },
  {
   "cell_type": "code",
   "outputs": [
    {
     "data": {
      "text/plain": "        value\nsymbol       \n7FT         0\nAAS         0\nABK         0\nADS         0\nAFC         0\n...       ...\nXBS         0\nYAN         0\nYBS         0\nYOL         0\nZAL         0\n\n[165 rows x 1 columns]",
      "text/html": "<div>\n<style scoped>\n    .dataframe tbody tr th:only-of-type {\n        vertical-align: middle;\n    }\n\n    .dataframe tbody tr th {\n        vertical-align: top;\n    }\n\n    .dataframe thead th {\n        text-align: right;\n    }\n</style>\n<table border=\"1\" class=\"dataframe\">\n  <thead>\n    <tr style=\"text-align: right;\">\n      <th></th>\n      <th>value</th>\n    </tr>\n    <tr>\n      <th>symbol</th>\n      <th></th>\n    </tr>\n  </thead>\n  <tbody>\n    <tr>\n      <th>7FT</th>\n      <td>0</td>\n    </tr>\n    <tr>\n      <th>AAS</th>\n      <td>0</td>\n    </tr>\n    <tr>\n      <th>ABK</th>\n      <td>0</td>\n    </tr>\n    <tr>\n      <th>ADS</th>\n      <td>0</td>\n    </tr>\n    <tr>\n      <th>AFC</th>\n      <td>0</td>\n    </tr>\n    <tr>\n      <th>...</th>\n      <td>...</td>\n    </tr>\n    <tr>\n      <th>XBS</th>\n      <td>0</td>\n    </tr>\n    <tr>\n      <th>YAN</th>\n      <td>0</td>\n    </tr>\n    <tr>\n      <th>YBS</th>\n      <td>0</td>\n    </tr>\n    <tr>\n      <th>YOL</th>\n      <td>0</td>\n    </tr>\n    <tr>\n      <th>ZAL</th>\n      <td>0</td>\n    </tr>\n  </tbody>\n</table>\n<p>165 rows × 1 columns</p>\n</div>"
     },
     "execution_count": 25,
     "metadata": {},
     "output_type": "execute_result"
    }
   ],
   "source": [
    "import pandas as pd\n",
    "import datetime\n",
    "first_slice_time = datetime.time(9,0,0)\n",
    "trade_counts = trade_count_aggs.groupby('symbol')[\"value\"].sum()\n",
    "pd.DataFrame(trade_counts).query('value == 0')"
   ],
   "metadata": {
    "collapsed": false,
    "ExecuteTime": {
     "end_time": "2024-02-11T13:09:44.555379321Z",
     "start_time": "2024-02-11T13:09:44.546813806Z"
    }
   },
   "id": "beeb59ee245e3054",
   "execution_count": 25
  },
  {
   "cell_type": "code",
   "execution_count": 9,
   "id": "41d488f1-34e1-4c88-9a8c-a5ca78645b74",
   "metadata": {
    "ExecuteTime": {
     "end_time": "2024-02-11T12:49:31.046458659Z",
     "start_time": "2024-02-11T12:49:31.003865214Z"
    }
   },
   "outputs": [
    {
     "data": {
      "text/plain": "Empty DataFrame\nColumns: [symbol, slice, aggregate, value]\nIndex: []",
      "text/html": "<div>\n<style scoped>\n    .dataframe tbody tr th:only-of-type {\n        vertical-align: middle;\n    }\n\n    .dataframe tbody tr th {\n        vertical-align: top;\n    }\n\n    .dataframe thead th {\n        text-align: right;\n    }\n</style>\n<table border=\"1\" class=\"dataframe\">\n  <thead>\n    <tr style=\"text-align: right;\">\n      <th></th>\n      <th>symbol</th>\n      <th>slice</th>\n      <th>aggregate</th>\n      <th>value</th>\n    </tr>\n  </thead>\n  <tbody>\n  </tbody>\n</table>\n</div>"
     },
     "execution_count": 9,
     "metadata": {},
     "output_type": "execute_result"
    }
   ],
   "source": [
    "import datetime\n",
    "time = datetime.time(15,50,00)\n",
    "aggs.query('slice == @time and value == 0')\n",
    "#aggs.query('symbol == \"PKO\"')"
   ]
  },
  {
   "cell_type": "code",
   "execution_count": 14,
   "id": "d7e44461",
   "metadata": {
    "ExecuteTime": {
     "end_time": "2024-02-09T15:43:45.169444446Z",
     "start_time": "2024-02-09T15:43:44.246886636Z"
    }
   },
   "outputs": [
    {
     "data": {
      "text/html": [
       "<div>\n",
       "<style scoped>\n",
       "    .dataframe tbody tr th:only-of-type {\n",
       "        vertical-align: middle;\n",
       "    }\n",
       "\n",
       "    .dataframe tbody tr th {\n",
       "        vertical-align: top;\n",
       "    }\n",
       "\n",
       "    .dataframe thead th {\n",
       "        text-align: right;\n",
       "    }\n",
       "</style>\n",
       "<table border=\"1\" class=\"dataframe\">\n",
       "  <thead>\n",
       "    <tr style=\"text-align: right;\">\n",
       "      <th></th>\n",
       "      <th>symbol</th>\n",
       "      <th>slice</th>\n",
       "      <th>aggregate</th>\n",
       "      <th>value</th>\n",
       "    </tr>\n",
       "  </thead>\n",
       "  <tbody>\n",
       "  </tbody>\n",
       "</table>\n",
       "</div>"
      ],
      "text/plain": [
       "Empty DataFrame\n",
       "Columns: [symbol, slice, aggregate, value]\n",
       "Index: []"
      ]
     },
     "execution_count": 14,
     "metadata": {},
     "output_type": "execute_result"
    }
   ],
   "source": [
    "import sys\n",
    "import aggregator\n",
    "import filters\n",
    "\n",
    "\n",
    "class volumeAggregate(aggregator.Aggregate):\n",
    "    def __init__(self):\n",
    "        self.volume = 0\n",
    "\n",
    "    def on_quote(self, quote):\n",
    "        pass\n",
    "\n",
    "    def on_trade(self, trade):\n",
    "        self.volume += trade.trade_volume\n",
    "\n",
    "    def compute_slice(self, slice):\n",
    "        ret = self.volume\n",
    "        self.volume = 0\n",
    "        return ret\n",
    "\n",
    "\n",
    "agg = aggregator.Aggregator(\"../WSE_marketdata.parquet\",\"../WSE_symbology.parquet\", filters.SymbolFilter('PKO'))\n",
    "agg.registerAggregate(volumeAggregate)\n",
    "agg.run()"
   ]
  },
  {
   "cell_type": "code",
   "execution_count": null,
   "id": "54bfbaae",
   "metadata": {},
   "outputs": [],
   "source": []
  },
  {
   "cell_type": "code",
   "execution_count": null,
   "id": "bdb1ff0b",
   "metadata": {},
   "outputs": [],
   "source": []
  }
 ],
 "metadata": {
  "kernelspec": {
   "display_name": "Python 3 (ipykernel)",
   "language": "python",
   "name": "python3"
  },
  "language_info": {
   "codemirror_mode": {
    "name": "ipython",
    "version": 3
   },
   "file_extension": ".py",
   "mimetype": "text/x-python",
   "name": "python",
   "nbconvert_exporter": "python",
   "pygments_lexer": "ipython3",
   "version": "3.12.2"
  }
 },
 "nbformat": 4,
 "nbformat_minor": 5
}
