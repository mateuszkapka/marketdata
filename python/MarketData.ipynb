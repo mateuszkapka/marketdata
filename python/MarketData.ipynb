{
 "cells": [
  {
   "cell_type": "code",
   "execution_count": 1,
   "id": "9df047bc",
   "metadata": {
    "ExecuteTime": {
     "end_time": "2024-02-11T12:16:29.771538533Z",
     "start_time": "2024-02-11T12:16:29.722587998Z"
    }
   },
   "outputs": [],
   "source": [
    "import os;\n",
    "import sys;\n",
    "sys.path.append(\"venv\")"
   ]
  },
  {
   "cell_type": "code",
   "execution_count": null,
   "id": "37d66d74990e5f3a",
   "metadata": {
    "collapsed": false
   },
   "outputs": [],
   "source": []
  },
  {
   "cell_type": "code",
   "execution_count": 42,
   "id": "2e99082d",
   "metadata": {
    "ExecuteTime": {
     "end_time": "2024-02-24T13:46:30.696756296Z",
     "start_time": "2024-02-24T13:46:30.532485917Z"
    }
   },
   "outputs": [
    {
     "data": {
      "text/plain": "timestamp        645585\nsymbol           645585\nbid_price        515386\nbid_size         515386\nask_price        515386\nask_size         515386\nmarket_period    515386\ntrade_price      130199\ntrade_volume     130199\ntype             645585\ndtype: int64"
     },
     "execution_count": 42,
     "metadata": {},
     "output_type": "execute_result"
    }
   ],
   "source": [
    "import pandas as pd\n",
    "df = pd.read_parquet('../normalised_data/WSE.parquet', engine='pyarrow')\n",
    "df.count()"
   ]
  },
  {
   "cell_type": "code",
   "execution_count": 44,
   "id": "c647d11a7fb58412",
   "metadata": {
    "collapsed": false,
    "ExecuteTime": {
     "end_time": "2024-02-24T13:54:47.759335860Z",
     "start_time": "2024-02-24T13:54:47.733840245Z"
    }
   },
   "outputs": [
    {
     "data": {
      "text/plain": "     symbol\n0      WMPN\n1      WLYB\n2       SBR\n3      ATHE\n4      HLTH\n...     ...\n9375   SDIV\n9376   SNOA\n9377     BN\n9378  NTRSO\n9379  HPP-C\n\n[9380 rows x 1 columns]",
      "text/html": "<div>\n<style scoped>\n    .dataframe tbody tr th:only-of-type {\n        vertical-align: middle;\n    }\n\n    .dataframe tbody tr th {\n        vertical-align: top;\n    }\n\n    .dataframe thead th {\n        text-align: right;\n    }\n</style>\n<table border=\"1\" class=\"dataframe\">\n  <thead>\n    <tr style=\"text-align: right;\">\n      <th></th>\n      <th>symbol</th>\n    </tr>\n  </thead>\n  <tbody>\n    <tr>\n      <th>0</th>\n      <td>WMPN</td>\n    </tr>\n    <tr>\n      <th>1</th>\n      <td>WLYB</td>\n    </tr>\n    <tr>\n      <th>2</th>\n      <td>SBR</td>\n    </tr>\n    <tr>\n      <th>3</th>\n      <td>ATHE</td>\n    </tr>\n    <tr>\n      <th>4</th>\n      <td>HLTH</td>\n    </tr>\n    <tr>\n      <th>...</th>\n      <td>...</td>\n    </tr>\n    <tr>\n      <th>9375</th>\n      <td>SDIV</td>\n    </tr>\n    <tr>\n      <th>9376</th>\n      <td>SNOA</td>\n    </tr>\n    <tr>\n      <th>9377</th>\n      <td>BN</td>\n    </tr>\n    <tr>\n      <th>9378</th>\n      <td>NTRSO</td>\n    </tr>\n    <tr>\n      <th>9379</th>\n      <td>HPP-C</td>\n    </tr>\n  </tbody>\n</table>\n<p>9380 rows × 1 columns</p>\n</div>"
     },
     "execution_count": 44,
     "metadata": {},
     "output_type": "execute_result"
    }
   ],
   "source": [
    "pd.read_parquet('../symbology_data/NASDAQ.parquet', engine='pyarrow')"
   ]
  },
  {
   "cell_type": "code",
   "execution_count": 45,
   "id": "50b8ea2e",
   "metadata": {
    "ExecuteTime": {
     "end_time": "2024-02-24T13:58:19.640983885Z",
     "start_time": "2024-02-24T13:58:18.537708141Z"
    }
   },
   "outputs": [
    {
     "data": {
      "text/plain": "  symbol     slice         aggregate  value\n0    DTR  09:00:00  SpreadByTickSize      0\n1    DTR  09:05:00  SpreadByTickSize      0",
      "text/html": "<div>\n<style scoped>\n    .dataframe tbody tr th:only-of-type {\n        vertical-align: middle;\n    }\n\n    .dataframe tbody tr th {\n        vertical-align: top;\n    }\n\n    .dataframe thead th {\n        text-align: right;\n    }\n</style>\n<table border=\"1\" class=\"dataframe\">\n  <thead>\n    <tr style=\"text-align: right;\">\n      <th></th>\n      <th>symbol</th>\n      <th>slice</th>\n      <th>aggregate</th>\n      <th>value</th>\n    </tr>\n  </thead>\n  <tbody>\n    <tr>\n      <th>0</th>\n      <td>DTR</td>\n      <td>09:00:00</td>\n      <td>SpreadByTickSize</td>\n      <td>0</td>\n    </tr>\n    <tr>\n      <th>1</th>\n      <td>DTR</td>\n      <td>09:05:00</td>\n      <td>SpreadByTickSize</td>\n      <td>0</td>\n    </tr>\n  </tbody>\n</table>\n</div>"
     },
     "execution_count": 45,
     "metadata": {},
     "output_type": "execute_result"
    }
   ],
   "source": [
    "from regionConfig.WSE import WSE\n",
    "# Spread sizes\n",
    "\n",
    "import aggregator\n",
    "import filters\n",
    "\n",
    "\n",
    "class SpreadByTickSizeAggregate(aggregator.Aggregate):\n",
    "    def __init__(self, region, symbol):\n",
    "        self.last_bid = 0.0\n",
    "        self.last_ask = 0.0\n",
    "        self.region = region\n",
    "        self.tick_series = []\n",
    "\n",
    "    def on_quote(self, quote):\n",
    "        self.spread = quote.ask_price - quote.bid_price\n",
    "\n",
    "    def on_trade(self, trade):\n",
    "        tick_size = self.region.get_tick_size(trade.trade_price, trade.symbol)\n",
    "        if tick_size != 0:\n",
    "            self.tick_series.append(self.spread / tick_size)\n",
    "\n",
    "    def compute_slice(self, slice):\n",
    "        if len(self.tick_series) == 0:\n",
    "            return 0\n",
    "\n",
    "        value = sum(self.tick_series) / len(self.tick_series)\n",
    "        return value\n",
    "\n",
    "\n",
    "\n",
    "agg = aggregator.Aggregator(\"../normalised_data/WSE.parquet\",\"../symbology_data/WSE.parquet\", WSE(), filters.SymbolFilter(\"DTR\"))\n",
    "agg.registerAggregate(SpreadByTickSizeAggregate)\n",
    "aggs = agg.run()\n",
    "aggs"
   ]
  },
  {
   "cell_type": "code",
   "outputs": [
    {
     "data": {
      "text/plain": "       symbol     slice   aggregate  value\n0         QNT  09:00:00  TradeCount      0\n1         QNT  09:05:00  TradeCount      0\n2         QNT  09:10:00  TradeCount      0\n3         QNT  09:15:00  TradeCount      0\n4         QNT  09:20:00  TradeCount      0\n...       ...       ...         ...    ...\n130637    AMV  15:30:00  QuoteCount      0\n130638    AMV  15:35:00  QuoteCount      0\n130639    AMV  15:40:00  QuoteCount      0\n130640    AMV  15:45:00  QuoteCount      0\n130641    AMV  15:50:00  QuoteCount      0\n\n[130642 rows x 4 columns]",
      "text/html": "<div>\n<style scoped>\n    .dataframe tbody tr th:only-of-type {\n        vertical-align: middle;\n    }\n\n    .dataframe tbody tr th {\n        vertical-align: top;\n    }\n\n    .dataframe thead th {\n        text-align: right;\n    }\n</style>\n<table border=\"1\" class=\"dataframe\">\n  <thead>\n    <tr style=\"text-align: right;\">\n      <th></th>\n      <th>symbol</th>\n      <th>slice</th>\n      <th>aggregate</th>\n      <th>value</th>\n    </tr>\n  </thead>\n  <tbody>\n    <tr>\n      <th>0</th>\n      <td>QNT</td>\n      <td>09:00:00</td>\n      <td>TradeCount</td>\n      <td>0</td>\n    </tr>\n    <tr>\n      <th>1</th>\n      <td>QNT</td>\n      <td>09:05:00</td>\n      <td>TradeCount</td>\n      <td>0</td>\n    </tr>\n    <tr>\n      <th>2</th>\n      <td>QNT</td>\n      <td>09:10:00</td>\n      <td>TradeCount</td>\n      <td>0</td>\n    </tr>\n    <tr>\n      <th>3</th>\n      <td>QNT</td>\n      <td>09:15:00</td>\n      <td>TradeCount</td>\n      <td>0</td>\n    </tr>\n    <tr>\n      <th>4</th>\n      <td>QNT</td>\n      <td>09:20:00</td>\n      <td>TradeCount</td>\n      <td>0</td>\n    </tr>\n    <tr>\n      <th>...</th>\n      <td>...</td>\n      <td>...</td>\n      <td>...</td>\n      <td>...</td>\n    </tr>\n    <tr>\n      <th>130637</th>\n      <td>AMV</td>\n      <td>15:30:00</td>\n      <td>QuoteCount</td>\n      <td>0</td>\n    </tr>\n    <tr>\n      <th>130638</th>\n      <td>AMV</td>\n      <td>15:35:00</td>\n      <td>QuoteCount</td>\n      <td>0</td>\n    </tr>\n    <tr>\n      <th>130639</th>\n      <td>AMV</td>\n      <td>15:40:00</td>\n      <td>QuoteCount</td>\n      <td>0</td>\n    </tr>\n    <tr>\n      <th>130640</th>\n      <td>AMV</td>\n      <td>15:45:00</td>\n      <td>QuoteCount</td>\n      <td>0</td>\n    </tr>\n    <tr>\n      <th>130641</th>\n      <td>AMV</td>\n      <td>15:50:00</td>\n      <td>QuoteCount</td>\n      <td>0</td>\n    </tr>\n  </tbody>\n</table>\n<p>130642 rows × 4 columns</p>\n</div>"
     },
     "execution_count": 29,
     "metadata": {},
     "output_type": "execute_result"
    }
   ],
   "source": [
    "from regionConfig.WSE import WSE\n",
    "# Spread sizes\n",
    "\n",
    "import aggregator\n",
    "import filters\n",
    "\n",
    "class TradeCountAggregate(aggregator.Aggregate):\n",
    "    def __init__(self, region, symbol):\n",
    "        self.trade_count = 0\n",
    "\n",
    "    def on_quote(self, quote):\n",
    "        pass\n",
    "\n",
    "    def on_trade(self, trade):\n",
    "        self.trade_count+=1\n",
    "\n",
    "    def compute_slice(self, slice):\n",
    "        val = self.trade_count\n",
    "        self.trade_count = 0 \n",
    "        return val\n",
    "    \n",
    "class QuoteCountAggregate(aggregator.Aggregate):\n",
    "    def __init__(self, region, symbol):\n",
    "        self.quote_count = 0\n",
    "\n",
    "    def on_quote(self, quote):\n",
    "        self.quote_count+=1\n",
    "\n",
    "    def on_trade(self, trade):\n",
    "        pass\n",
    "\n",
    "    def compute_slice(self, slice):\n",
    "        val = self.quote_count\n",
    "        self.quote_count = 0 \n",
    "        return val\n",
    "\n",
    "agg = aggregator.Aggregator(\"../normalised_data/WSE.parquet\",\"../symbology_data/WSE.parquet\", WSE())\n",
    "agg.registerAggregate(TradeCountAggregate)\n",
    "agg.registerAggregate(QuoteCountAggregate)\n",
    "trade_count_aggs = agg.run()\n",
    "trade_count_aggs"
   ],
   "metadata": {
    "collapsed": false,
    "ExecuteTime": {
     "end_time": "2024-02-11T16:29:24.094654001Z",
     "start_time": "2024-02-11T16:29:22.437057635Z"
    }
   },
   "id": "5f40f7c6fc2fbf33",
   "execution_count": 29
  },
  {
   "cell_type": "code",
   "outputs": [
    {
     "data": {
      "text/plain": "        value_x  value_y\nsymbol                  \n7FT           0        2\nAAS           0        1\nABK           0        2\nADS           0     2198\nAFC           0        1\n...         ...      ...\nXBS           0        3\nYAN           0       10\nYBS           0        2\nYOL           0        5\nZAL           0     3658\n\n[165 rows x 2 columns]",
      "text/html": "<div>\n<style scoped>\n    .dataframe tbody tr th:only-of-type {\n        vertical-align: middle;\n    }\n\n    .dataframe tbody tr th {\n        vertical-align: top;\n    }\n\n    .dataframe thead th {\n        text-align: right;\n    }\n</style>\n<table border=\"1\" class=\"dataframe\">\n  <thead>\n    <tr style=\"text-align: right;\">\n      <th></th>\n      <th>value_x</th>\n      <th>value_y</th>\n    </tr>\n    <tr>\n      <th>symbol</th>\n      <th></th>\n      <th></th>\n    </tr>\n  </thead>\n  <tbody>\n    <tr>\n      <th>7FT</th>\n      <td>0</td>\n      <td>2</td>\n    </tr>\n    <tr>\n      <th>AAS</th>\n      <td>0</td>\n      <td>1</td>\n    </tr>\n    <tr>\n      <th>ABK</th>\n      <td>0</td>\n      <td>2</td>\n    </tr>\n    <tr>\n      <th>ADS</th>\n      <td>0</td>\n      <td>2198</td>\n    </tr>\n    <tr>\n      <th>AFC</th>\n      <td>0</td>\n      <td>1</td>\n    </tr>\n    <tr>\n      <th>...</th>\n      <td>...</td>\n      <td>...</td>\n    </tr>\n    <tr>\n      <th>XBS</th>\n      <td>0</td>\n      <td>3</td>\n    </tr>\n    <tr>\n      <th>YAN</th>\n      <td>0</td>\n      <td>10</td>\n    </tr>\n    <tr>\n      <th>YBS</th>\n      <td>0</td>\n      <td>2</td>\n    </tr>\n    <tr>\n      <th>YOL</th>\n      <td>0</td>\n      <td>5</td>\n    </tr>\n    <tr>\n      <th>ZAL</th>\n      <td>0</td>\n      <td>3658</td>\n    </tr>\n  </tbody>\n</table>\n<p>165 rows × 2 columns</p>\n</div>"
     },
     "execution_count": 35,
     "metadata": {},
     "output_type": "execute_result"
    }
   ],
   "source": [
    "import pandas as pd\n",
    "import datetime\n",
    "first_slice_time = datetime.time(9,0,0)\n",
    "trade_counts = trade_count_aggs.query('aggregate == \"TradeCount\"').groupby('symbol')[\"value\"].sum()\n",
    "quote_counts = trade_count_aggs.query('aggregate == \"QuoteCount\"').groupby('symbol')[\"value\"].sum()\n",
    "pd.DataFrame(trade_counts)\n",
    "\n",
    "pd.merge(trade_counts, quote_counts, on='symbol', how='outer').query('value_x == 0')\n"
   ],
   "metadata": {
    "collapsed": false,
    "ExecuteTime": {
     "end_time": "2024-02-11T16:36:00.158446426Z",
     "start_time": "2024-02-11T16:36:00.112914472Z"
    }
   },
   "id": "beeb59ee245e3054",
   "execution_count": 35
  },
  {
   "cell_type": "code",
   "execution_count": 9,
   "id": "41d488f1-34e1-4c88-9a8c-a5ca78645b74",
   "metadata": {
    "ExecuteTime": {
     "end_time": "2024-02-11T12:49:31.046458659Z",
     "start_time": "2024-02-11T12:49:31.003865214Z"
    }
   },
   "outputs": [
    {
     "data": {
      "text/plain": "Empty DataFrame\nColumns: [symbol, slice, aggregate, value]\nIndex: []",
      "text/html": "<div>\n<style scoped>\n    .dataframe tbody tr th:only-of-type {\n        vertical-align: middle;\n    }\n\n    .dataframe tbody tr th {\n        vertical-align: top;\n    }\n\n    .dataframe thead th {\n        text-align: right;\n    }\n</style>\n<table border=\"1\" class=\"dataframe\">\n  <thead>\n    <tr style=\"text-align: right;\">\n      <th></th>\n      <th>symbol</th>\n      <th>slice</th>\n      <th>aggregate</th>\n      <th>value</th>\n    </tr>\n  </thead>\n  <tbody>\n  </tbody>\n</table>\n</div>"
     },
     "execution_count": 9,
     "metadata": {},
     "output_type": "execute_result"
    }
   ],
   "source": [
    "import datetime\n",
    "time = datetime.time(15,50,00)\n",
    "aggs.query('slice == @time and value == 0')\n",
    "#aggs.query('symbol == \"PKO\"')"
   ]
  },
  {
   "cell_type": "code",
   "execution_count": 14,
   "id": "d7e44461",
   "metadata": {
    "ExecuteTime": {
     "end_time": "2024-02-09T15:43:45.169444446Z",
     "start_time": "2024-02-09T15:43:44.246886636Z"
    }
   },
   "outputs": [
    {
     "data": {
      "text/html": [
       "<div>\n",
       "<style scoped>\n",
       "    .dataframe tbody tr th:only-of-type {\n",
       "        vertical-align: middle;\n",
       "    }\n",
       "\n",
       "    .dataframe tbody tr th {\n",
       "        vertical-align: top;\n",
       "    }\n",
       "\n",
       "    .dataframe thead th {\n",
       "        text-align: right;\n",
       "    }\n",
       "</style>\n",
       "<table border=\"1\" class=\"dataframe\">\n",
       "  <thead>\n",
       "    <tr style=\"text-align: right;\">\n",
       "      <th></th>\n",
       "      <th>symbol</th>\n",
       "      <th>slice</th>\n",
       "      <th>aggregate</th>\n",
       "      <th>value</th>\n",
       "    </tr>\n",
       "  </thead>\n",
       "  <tbody>\n",
       "  </tbody>\n",
       "</table>\n",
       "</div>"
      ],
      "text/plain": [
       "Empty DataFrame\n",
       "Columns: [symbol, slice, aggregate, value]\n",
       "Index: []"
      ]
     },
     "execution_count": 14,
     "metadata": {},
     "output_type": "execute_result"
    }
   ],
   "source": [
    "import sys\n",
    "import aggregator\n",
    "import filters\n",
    "\n",
    "\n",
    "class volumeAggregate(aggregator.Aggregate):\n",
    "    def __init__(self):\n",
    "        self.volume = 0\n",
    "\n",
    "    def on_quote(self, quote):\n",
    "        pass\n",
    "\n",
    "    def on_trade(self, trade):\n",
    "        self.volume += trade.trade_volume\n",
    "\n",
    "    def compute_slice(self, slice):\n",
    "        ret = self.volume\n",
    "        self.volume = 0\n",
    "        return ret\n",
    "\n",
    "\n",
    "agg = aggregator.Aggregator(\"../normalised_data/WSE.parquet\",\"../symbology_data/WSE.parquet\", filters.SymbolFilter('PKO'))\n",
    "agg.registerAggregate(volumeAggregate)\n",
    "agg.run()"
   ]
  },
  {
   "cell_type": "code",
   "execution_count": null,
   "id": "54bfbaae",
   "metadata": {},
   "outputs": [],
   "source": []
  },
  {
   "cell_type": "code",
   "execution_count": null,
   "id": "bdb1ff0b",
   "metadata": {},
   "outputs": [],
   "source": []
  }
 ],
 "metadata": {
  "kernelspec": {
   "display_name": "Python 3 (ipykernel)",
   "language": "python",
   "name": "python3"
  },
  "language_info": {
   "codemirror_mode": {
    "name": "ipython",
    "version": 3
   },
   "file_extension": ".py",
   "mimetype": "text/x-python",
   "name": "python",
   "nbconvert_exporter": "python",
   "pygments_lexer": "ipython3",
   "version": "3.12.2"
  }
 },
 "nbformat": 4,
 "nbformat_minor": 5
}
