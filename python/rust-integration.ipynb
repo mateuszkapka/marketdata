{
 "cells": [
  {
   "cell_type": "code",
   "execution_count": 1,
   "id": "initial_id",
   "metadata": {
    "collapsed": true,
    "ExecuteTime": {
     "end_time": "2024-03-10T14:06:10.029027192Z",
     "start_time": "2024-03-10T14:06:10.013461606Z"
    }
   },
   "outputs": [],
   "source": []
  },
  {
   "cell_type": "code",
   "outputs": [
    {
     "data": {
      "text/plain": "shape: (4, 4)\n┌────────┬─────────────────────┬─────────────────┬────────────┐\n│ symbol ┆ slice               ┆ aggregate_name  ┆ value      │\n│ ---    ┆ ---                 ┆ ---             ┆ ---        │\n│ str    ┆ datetime[ms]        ┆ str             ┆ f64        │\n╞════════╪═════════════════════╪═════════════════╪════════════╡\n│ PKO    ┆ 2024-01-22 10:10:00 ┆ VolumeAggregate ┆ 1.18599e6  │\n│ PKO    ┆ 2024-01-22 10:50:00 ┆ VolumeAggregate ┆ 1.971125e6 │\n│ PKO    ┆ 2024-01-22 10:55:00 ┆ VolumeAggregate ┆ 2.136673e6 │\n│ PKO    ┆ 2024-01-22 12:25:00 ┆ VolumeAggregate ┆ 2.681085e6 │\n└────────┴─────────────────────┴─────────────────┴────────────┘",
      "text/html": "<div><style>\n.dataframe > thead > tr,\n.dataframe > tbody > tr {\n  text-align: right;\n  white-space: pre-wrap;\n}\n</style>\n<small>shape: (4, 4)</small><table border=\"1\" class=\"dataframe\"><thead><tr><th>symbol</th><th>slice</th><th>aggregate_name</th><th>value</th></tr><tr><td>str</td><td>datetime[ms]</td><td>str</td><td>f64</td></tr></thead><tbody><tr><td>&quot;PKO&quot;</td><td>2024-01-22 10:10:00</td><td>&quot;VolumeAggregat…</td><td>1.18599e6</td></tr><tr><td>&quot;PKO&quot;</td><td>2024-01-22 10:50:00</td><td>&quot;VolumeAggregat…</td><td>1.971125e6</td></tr><tr><td>&quot;PKO&quot;</td><td>2024-01-22 10:55:00</td><td>&quot;VolumeAggregat…</td><td>2.136673e6</td></tr><tr><td>&quot;PKO&quot;</td><td>2024-01-22 12:25:00</td><td>&quot;VolumeAggregat…</td><td>2.681085e6</td></tr></tbody></table></div>"
     },
     "execution_count": 6,
     "metadata": {},
     "output_type": "execute_result"
    }
   ],
   "source": [
    "\n",
    "\n",
    "# import IPython\n",
    "# IPython.Application.instance().kernel.do_shutdown(True) #automatically restarts kernel\n",
    "\n",
    "import python\n",
    "import polars as pl\n",
    "\n",
    "df: pl.DataFrame = python.compute_aggregates(\"WSE\")\n",
    "df.filter(pl.col('symbol') == pl.lit(\"PKO\"))"
   ],
   "metadata": {
    "collapsed": false,
    "ExecuteTime": {
     "end_time": "2024-03-11T09:20:22.737000245Z",
     "start_time": "2024-03-11T09:20:22.691368164Z"
    }
   },
   "id": "18146716127a6912",
   "execution_count": 6
  },
  {
   "cell_type": "code",
   "outputs": [],
   "source": [],
   "metadata": {
    "collapsed": false
   },
   "id": "7a3949b563e45f9f"
  }
 ],
 "metadata": {
  "kernelspec": {
   "display_name": "Python 3",
   "language": "python",
   "name": "python3"
  },
  "language_info": {
   "codemirror_mode": {
    "name": "ipython",
    "version": 2
   },
   "file_extension": ".py",
   "mimetype": "text/x-python",
   "name": "python",
   "nbconvert_exporter": "python",
   "pygments_lexer": "ipython2",
   "version": "2.7.6"
  }
 },
 "nbformat": 4,
 "nbformat_minor": 5
}
