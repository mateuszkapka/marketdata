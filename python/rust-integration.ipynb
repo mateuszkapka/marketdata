{
 "cells": [
  {
   "cell_type": "code",
   "execution_count": 1,
   "id": "initial_id",
   "metadata": {
    "collapsed": true,
    "ExecuteTime": {
     "end_time": "2024-03-10T14:06:10.029027192Z",
     "start_time": "2024-03-10T14:06:10.013461606Z"
    }
   },
   "outputs": [],
   "source": []
  },
  {
   "cell_type": "code",
   "outputs": [
    {
     "data": {
      "text/plain": "shape: (83, 4)\n┌────────┬─────────────────────┬─────────────────┬────────────┐\n│ symbol ┆ slice               ┆ aggregate_name  ┆ value      │\n│ ---    ┆ ---                 ┆ ---             ┆ ---        │\n│ str    ┆ datetime[ms]        ┆ str             ┆ f64        │\n╞════════╪═════════════════════╪═════════════════╪════════════╡\n│ PKO    ┆ 2024-01-22 09:00:00 ┆ VolumeAggregate ┆ 64.0       │\n│ PKO    ┆ 2024-01-22 09:05:00 ┆ VolumeAggregate ┆ 100885.0   │\n│ PKO    ┆ 2024-01-22 09:10:00 ┆ VolumeAggregate ┆ 117703.0   │\n│ PKO    ┆ 2024-01-22 09:15:00 ┆ VolumeAggregate ┆ 277279.0   │\n│ PKO    ┆ 2024-01-22 09:20:00 ┆ VolumeAggregate ┆ 390455.0   │\n│ …      ┆ …                   ┆ …               ┆ …          │\n│ PKO    ┆ 2024-01-22 15:30:00 ┆ VolumeAggregate ┆ 3.404248e6 │\n│ PKO    ┆ 2024-01-22 15:35:00 ┆ VolumeAggregate ┆ 3.422024e6 │\n│ PKO    ┆ 2024-01-22 15:40:00 ┆ VolumeAggregate ┆ 3.43872e6  │\n│ PKO    ┆ 2024-01-22 15:45:00 ┆ VolumeAggregate ┆ 3.462416e6 │\n│ PKO    ┆ 2024-01-22 15:50:00 ┆ VolumeAggregate ┆ 3.473356e6 │\n└────────┴─────────────────────┴─────────────────┴────────────┘",
      "text/html": "<div><style>\n.dataframe > thead > tr,\n.dataframe > tbody > tr {\n  text-align: right;\n  white-space: pre-wrap;\n}\n</style>\n<small>shape: (83, 4)</small><table border=\"1\" class=\"dataframe\"><thead><tr><th>symbol</th><th>slice</th><th>aggregate_name</th><th>value</th></tr><tr><td>str</td><td>datetime[ms]</td><td>str</td><td>f64</td></tr></thead><tbody><tr><td>&quot;PKO&quot;</td><td>2024-01-22 09:00:00</td><td>&quot;VolumeAggregat…</td><td>64.0</td></tr><tr><td>&quot;PKO&quot;</td><td>2024-01-22 09:05:00</td><td>&quot;VolumeAggregat…</td><td>100885.0</td></tr><tr><td>&quot;PKO&quot;</td><td>2024-01-22 09:10:00</td><td>&quot;VolumeAggregat…</td><td>117703.0</td></tr><tr><td>&quot;PKO&quot;</td><td>2024-01-22 09:15:00</td><td>&quot;VolumeAggregat…</td><td>277279.0</td></tr><tr><td>&quot;PKO&quot;</td><td>2024-01-22 09:20:00</td><td>&quot;VolumeAggregat…</td><td>390455.0</td></tr><tr><td>&hellip;</td><td>&hellip;</td><td>&hellip;</td><td>&hellip;</td></tr><tr><td>&quot;PKO&quot;</td><td>2024-01-22 15:30:00</td><td>&quot;VolumeAggregat…</td><td>3.404248e6</td></tr><tr><td>&quot;PKO&quot;</td><td>2024-01-22 15:35:00</td><td>&quot;VolumeAggregat…</td><td>3.422024e6</td></tr><tr><td>&quot;PKO&quot;</td><td>2024-01-22 15:40:00</td><td>&quot;VolumeAggregat…</td><td>3.43872e6</td></tr><tr><td>&quot;PKO&quot;</td><td>2024-01-22 15:45:00</td><td>&quot;VolumeAggregat…</td><td>3.462416e6</td></tr><tr><td>&quot;PKO&quot;</td><td>2024-01-22 15:50:00</td><td>&quot;VolumeAggregat…</td><td>3.473356e6</td></tr></tbody></table></div>"
     },
     "execution_count": 8,
     "metadata": {},
     "output_type": "execute_result"
    }
   ],
   "source": [
    "# import IPython\n",
    "# IPython.Application.instance().kernel.do_shutdown(True) #automatically restarts kernel\n",
    "\n",
    "import python\n",
    "import polars as pl\n",
    "\n",
    "#df: pl.DataFrame = python.compute_aggregates(\"WSE\", symbol=\"PKO\")\n",
    "df: pl.DataFrame = python.compute_aggregates(\"WSE\", symbol=\"PKO\")\n",
    "df"
   ],
   "metadata": {
    "collapsed": false,
    "ExecuteTime": {
     "end_time": "2024-03-15T10:14:14.515194509Z",
     "start_time": "2024-03-15T10:14:14.510795040Z"
    }
   },
   "id": "18146716127a6912",
   "execution_count": 8
  },
  {
   "cell_type": "code",
   "outputs": [],
   "source": [],
   "metadata": {
    "collapsed": false
   },
   "id": "7a3949b563e45f9f"
  }
 ],
 "metadata": {
  "kernelspec": {
   "display_name": "Python 3",
   "language": "python",
   "name": "python3"
  },
  "language_info": {
   "codemirror_mode": {
    "name": "ipython",
    "version": 2
   },
   "file_extension": ".py",
   "mimetype": "text/x-python",
   "name": "python",
   "nbconvert_exporter": "python",
   "pygments_lexer": "ipython2",
   "version": "2.7.6"
  }
 },
 "nbformat": 4,
 "nbformat_minor": 5
}
