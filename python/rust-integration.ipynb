{
 "cells": [
  {
   "cell_type": "code",
   "execution_count": 1,
   "id": "initial_id",
   "metadata": {
    "collapsed": true,
    "ExecuteTime": {
     "end_time": "2024-03-10T14:06:10.029027192Z",
     "start_time": "2024-03-10T14:06:10.013461606Z"
    }
   },
   "outputs": [],
   "source": []
  },
  {
   "cell_type": "code",
   "outputs": [
    {
     "name": "stdout",
     "output_type": "stream",
     "text": [
      "Computing aggregate for 2024-01-22 09:00:00\n",
      "Computing aggregate for 2024-01-22 09:05:00\n",
      "Computing aggregate for 2024-01-22 09:10:00\n",
      "Computing aggregate for 2024-01-22 09:15:00\n",
      "Computing aggregate for 2024-01-22 09:20:00\n",
      "Computing aggregate for 2024-01-22 09:25:00\n",
      "Computing aggregate for 2024-01-22 09:30:00\n",
      "Computing aggregate for 2024-01-22 09:35:00\n",
      "Computing aggregate for 2024-01-22 09:40:00\n",
      "Computing aggregate for 2024-01-22 09:45:00\n",
      "Computing aggregate for 2024-01-22 09:50:00\n",
      "Computing aggregate for 2024-01-22 09:55:00\n",
      "Computing aggregate for 2024-01-22 10:00:00\n",
      "Computing aggregate for 2024-01-22 10:05:00\n",
      "Computing aggregate for 2024-01-22 10:10:00\n",
      "Computing aggregate for 2024-01-22 10:15:00\n",
      "Computing aggregate for 2024-01-22 10:20:00\n",
      "Computing aggregate for 2024-01-22 10:25:00\n",
      "Computing aggregate for 2024-01-22 10:30:00\n",
      "Computing aggregate for 2024-01-22 10:35:00\n",
      "Computing aggregate for 2024-01-22 10:40:00\n",
      "Computing aggregate for 2024-01-22 10:45:00\n",
      "Computing aggregate for 2024-01-22 10:50:00\n",
      "Computing aggregate for 2024-01-22 10:55:00\n",
      "Computing aggregate for 2024-01-22 11:00:00\n",
      "Computing aggregate for 2024-01-22 11:05:00\n",
      "Computing aggregate for 2024-01-22 11:10:00\n",
      "Computing aggregate for 2024-01-22 11:15:00\n",
      "Computing aggregate for 2024-01-22 11:20:00\n",
      "Computing aggregate for 2024-01-22 11:25:00\n",
      "Computing aggregate for 2024-01-22 11:30:00\n",
      "Computing aggregate for 2024-01-22 11:35:00\n",
      "Computing aggregate for 2024-01-22 11:40:00\n",
      "Computing aggregate for 2024-01-22 11:45:00\n",
      "Computing aggregate for 2024-01-22 11:50:00\n",
      "Computing aggregate for 2024-01-22 11:55:00\n",
      "Computing aggregate for 2024-01-22 12:00:00\n",
      "Computing aggregate for 2024-01-22 12:05:00\n",
      "Computing aggregate for 2024-01-22 12:10:00\n",
      "Computing aggregate for 2024-01-22 12:15:00\n",
      "Computing aggregate for 2024-01-22 12:20:00\n",
      "Computing aggregate for 2024-01-22 12:25:00\n",
      "Computing aggregate for 2024-01-22 12:30:00\n",
      "Computing aggregate for 2024-01-22 12:35:00\n",
      "Computing aggregate for 2024-01-22 12:40:00\n",
      "Computing aggregate for 2024-01-22 12:45:00\n",
      "Computing aggregate for 2024-01-22 12:50:00\n",
      "Computing aggregate for 2024-01-22 12:55:00\n",
      "Computing aggregate for 2024-01-22 13:00:00\n",
      "Computing aggregate for 2024-01-22 13:05:00\n",
      "Computing aggregate for 2024-01-22 13:10:00\n",
      "Computing aggregate for 2024-01-22 13:15:00\n",
      "Computing aggregate for 2024-01-22 13:20:00\n",
      "Computing aggregate for 2024-01-22 13:25:00\n",
      "Computing aggregate for 2024-01-22 13:30:00\n",
      "Computing aggregate for 2024-01-22 13:35:00\n",
      "Computing aggregate for 2024-01-22 13:40:00\n",
      "Computing aggregate for 2024-01-22 13:45:00\n",
      "Computing aggregate for 2024-01-22 13:50:00\n",
      "Computing aggregate for 2024-01-22 13:55:00\n",
      "Computing aggregate for 2024-01-22 14:00:00\n",
      "Computing aggregate for 2024-01-22 14:05:00\n",
      "Computing aggregate for 2024-01-22 14:10:00\n",
      "Computing aggregate for 2024-01-22 14:15:00\n",
      "Computing aggregate for 2024-01-22 14:20:00\n",
      "Computing aggregate for 2024-01-22 14:25:00\n",
      "Computing aggregate for 2024-01-22 14:30:00\n",
      "Computing aggregate for 2024-01-22 14:35:00\n",
      "Computing aggregate for 2024-01-22 14:40:00\n",
      "Computing aggregate for 2024-01-22 14:45:00\n",
      "Computing aggregate for 2024-01-22 14:50:00\n",
      "Computing aggregate for 2024-01-22 14:55:00\n",
      "Computing aggregate for 2024-01-22 15:00:00\n",
      "Computing aggregate for 2024-01-22 15:05:00\n",
      "Computing aggregate for 2024-01-22 15:10:00\n",
      "Computing aggregate for 2024-01-22 15:15:00\n",
      "Computing aggregate for 2024-01-22 15:20:00\n",
      "Computing aggregate for 2024-01-22 15:25:00\n",
      "Computing aggregate for 2024-01-22 15:30:00\n",
      "Computing aggregate for 2024-01-22 15:35:00\n",
      "Computing aggregate for 2024-01-22 15:40:00\n",
      "Computing aggregate for 2024-01-22 15:45:00\n",
      "Computing aggregate for 2024-01-22 15:50:00\n"
     ]
    },
    {
     "data": {
      "text/plain": "shape: (83, 4)\n┌────────┬─────────────────────┬─────────────────┬────────────┐\n│ symbol ┆ slice               ┆ aggregate_name  ┆ value      │\n│ ---    ┆ ---                 ┆ ---             ┆ ---        │\n│ str    ┆ datetime[ms]        ┆ str             ┆ f64        │\n╞════════╪═════════════════════╪═════════════════╪════════════╡\n│ RNK    ┆ 2024-01-22 09:00:00 ┆ VolumeAggregate ┆ 3000.0     │\n│ RNK    ┆ 2024-01-22 09:05:00 ┆ VolumeAggregate ┆ 69633.0    │\n│ OPL    ┆ 2024-01-22 09:10:00 ┆ VolumeAggregate ┆ 8663.0     │\n│ RBW    ┆ 2024-01-22 09:15:00 ┆ VolumeAggregate ┆ 926.0      │\n│ ALE    ┆ 2024-01-22 09:20:00 ┆ VolumeAggregate ┆ 79639.0    │\n│ …      ┆ …                   ┆ …               ┆ …          │\n│ OPL    ┆ 2024-01-22 15:30:00 ┆ VolumeAggregate ┆ 888116.0   │\n│ SPL    ┆ 2024-01-22 15:35:00 ┆ VolumeAggregate ┆ 46225.0    │\n│ ALR    ┆ 2024-01-22 15:40:00 ┆ VolumeAggregate ┆ 46330.0    │\n│ OPL    ┆ 2024-01-22 15:45:00 ┆ VolumeAggregate ┆ 952174.0   │\n│ TRK    ┆ 2024-01-22 15:50:00 ┆ VolumeAggregate ┆ 1.039382e6 │\n└────────┴─────────────────────┴─────────────────┴────────────┘",
      "text/html": "<div><style>\n.dataframe > thead > tr,\n.dataframe > tbody > tr {\n  text-align: right;\n  white-space: pre-wrap;\n}\n</style>\n<small>shape: (83, 4)</small><table border=\"1\" class=\"dataframe\"><thead><tr><th>symbol</th><th>slice</th><th>aggregate_name</th><th>value</th></tr><tr><td>str</td><td>datetime[ms]</td><td>str</td><td>f64</td></tr></thead><tbody><tr><td>&quot;RNK&quot;</td><td>2024-01-22 09:00:00</td><td>&quot;VolumeAggregat…</td><td>3000.0</td></tr><tr><td>&quot;RNK&quot;</td><td>2024-01-22 09:05:00</td><td>&quot;VolumeAggregat…</td><td>69633.0</td></tr><tr><td>&quot;OPL&quot;</td><td>2024-01-22 09:10:00</td><td>&quot;VolumeAggregat…</td><td>8663.0</td></tr><tr><td>&quot;RBW&quot;</td><td>2024-01-22 09:15:00</td><td>&quot;VolumeAggregat…</td><td>926.0</td></tr><tr><td>&quot;ALE&quot;</td><td>2024-01-22 09:20:00</td><td>&quot;VolumeAggregat…</td><td>79639.0</td></tr><tr><td>&hellip;</td><td>&hellip;</td><td>&hellip;</td><td>&hellip;</td></tr><tr><td>&quot;OPL&quot;</td><td>2024-01-22 15:30:00</td><td>&quot;VolumeAggregat…</td><td>888116.0</td></tr><tr><td>&quot;SPL&quot;</td><td>2024-01-22 15:35:00</td><td>&quot;VolumeAggregat…</td><td>46225.0</td></tr><tr><td>&quot;ALR&quot;</td><td>2024-01-22 15:40:00</td><td>&quot;VolumeAggregat…</td><td>46330.0</td></tr><tr><td>&quot;OPL&quot;</td><td>2024-01-22 15:45:00</td><td>&quot;VolumeAggregat…</td><td>952174.0</td></tr><tr><td>&quot;TRK&quot;</td><td>2024-01-22 15:50:00</td><td>&quot;VolumeAggregat…</td><td>1.039382e6</td></tr></tbody></table></div>"
     },
     "execution_count": 1,
     "metadata": {},
     "output_type": "execute_result"
    }
   ],
   "source": [
    "\n",
    "\n",
    "import IPython\n",
    "IPython.Application.instance().kernel.do_shutdown(True) #automatically restarts kernel\n",
    "\n",
    "import python\n",
    "import polars\n",
    "\n",
    "python.compute_aggregates(\"WSE\")"
   ],
   "metadata": {
    "collapsed": false,
    "ExecuteTime": {
     "end_time": "2024-03-10T14:51:02.650810771Z",
     "start_time": "2024-03-10T14:51:01.958226412Z"
    }
   },
   "id": "18146716127a6912",
   "execution_count": 1
  },
  {
   "cell_type": "code",
   "outputs": [],
   "source": [],
   "metadata": {
    "collapsed": false
   },
   "id": "7a3949b563e45f9f"
  }
 ],
 "metadata": {
  "kernelspec": {
   "display_name": "Python 3",
   "language": "python",
   "name": "python3"
  },
  "language_info": {
   "codemirror_mode": {
    "name": "ipython",
    "version": 2
   },
   "file_extension": ".py",
   "mimetype": "text/x-python",
   "name": "python",
   "nbconvert_exporter": "python",
   "pygments_lexer": "ipython2",
   "version": "2.7.6"
  }
 },
 "nbformat": 4,
 "nbformat_minor": 5
}
